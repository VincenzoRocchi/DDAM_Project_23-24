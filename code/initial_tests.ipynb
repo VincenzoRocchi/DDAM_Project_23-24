{
 "cells": [
  {
   "cell_type": "markdown",
   "metadata": {},
   "source": [
    "# Malware Detection in Network Traffic Data"
   ]
  },
  {
   "cell_type": "markdown",
   "metadata": {},
   "source": [
    "## Imports and spark setup"
   ]
  },
  {
   "cell_type": "code",
   "execution_count": 1,
   "metadata": {},
   "outputs": [],
   "source": [
    "import pyspark\n",
    "from tqdm import tqdm\n",
    "import os\n",
    "import pandas as pd\n",
    "import matplotlib.pyplot as plt\n",
    "import seaborn as sns\n",
    "from pyspark.sql import SQLContext, SparkSession\n",
    "\n",
    "spark = SparkSession.builder.appName('Malware').getOrCreate()\n",
    "#sc = spark.sparkContext\n",
    "#sqlsc = SQLContext(spark)\n",
    "\n",
    "import os\n",
    "os.environ['HADOOP_HOME'] = 'C:/dummy/hadoop_home'"
   ]
  },
  {
   "cell_type": "code",
   "execution_count": 2,
   "metadata": {},
   "outputs": [
    {
     "name": "stdout",
     "output_type": "stream",
     "text": [
      "[('spark.executor.id', 'driver'), ('spark.app.submitTime', '1702383918978'), ('spark.driver.port', '55827'), ('spark.app.id', 'local-1702383919644'), ('spark.app.startTime', '1702383919042'), ('spark.driver.extraJavaOptions', '-Djava.net.preferIPv6Addresses=false -XX:+IgnoreUnrecognizedVMOptions --add-opens=java.base/java.lang=ALL-UNNAMED --add-opens=java.base/java.lang.invoke=ALL-UNNAMED --add-opens=java.base/java.lang.reflect=ALL-UNNAMED --add-opens=java.base/java.io=ALL-UNNAMED --add-opens=java.base/java.net=ALL-UNNAMED --add-opens=java.base/java.nio=ALL-UNNAMED --add-opens=java.base/java.util=ALL-UNNAMED --add-opens=java.base/java.util.concurrent=ALL-UNNAMED --add-opens=java.base/java.util.concurrent.atomic=ALL-UNNAMED --add-opens=java.base/sun.nio.ch=ALL-UNNAMED --add-opens=java.base/sun.nio.cs=ALL-UNNAMED --add-opens=java.base/sun.security.action=ALL-UNNAMED --add-opens=java.base/sun.util.calendar=ALL-UNNAMED --add-opens=java.security.jgss/sun.security.krb5=ALL-UNNAMED -Djdk.reflect.useDirectMethodHandle=false'), ('spark.app.name', 'Malware'), ('spark.rdd.compress', 'True'), ('spark.driver.host', '192.168.1.143'), ('spark.serializer.objectStreamReset', '100'), ('spark.master', 'local[*]'), ('spark.submit.pyFiles', ''), ('spark.submit.deployMode', 'client'), ('spark.ui.showConsoleProgress', 'true'), ('spark.executor.extraJavaOptions', '-Djava.net.preferIPv6Addresses=false -XX:+IgnoreUnrecognizedVMOptions --add-opens=java.base/java.lang=ALL-UNNAMED --add-opens=java.base/java.lang.invoke=ALL-UNNAMED --add-opens=java.base/java.lang.reflect=ALL-UNNAMED --add-opens=java.base/java.io=ALL-UNNAMED --add-opens=java.base/java.net=ALL-UNNAMED --add-opens=java.base/java.nio=ALL-UNNAMED --add-opens=java.base/java.util=ALL-UNNAMED --add-opens=java.base/java.util.concurrent=ALL-UNNAMED --add-opens=java.base/java.util.concurrent.atomic=ALL-UNNAMED --add-opens=java.base/sun.nio.ch=ALL-UNNAMED --add-opens=java.base/sun.nio.cs=ALL-UNNAMED --add-opens=java.base/sun.security.action=ALL-UNNAMED --add-opens=java.base/sun.util.calendar=ALL-UNNAMED --add-opens=java.security.jgss/sun.security.krb5=ALL-UNNAMED -Djdk.reflect.useDirectMethodHandle=false')]\n"
     ]
    }
   ],
   "source": [
    "print(spark.sparkContext.getConf().getAll())"
   ]
  },
  {
   "cell_type": "markdown",
   "metadata": {},
   "source": [
    "## Presentation"
   ]
  },
  {
   "cell_type": "code",
   "execution_count": 3,
   "metadata": {},
   "outputs": [],
   "source": [
    "data = r\"C:\\Users\\Vincenzo\\Projects\\DDAM_data\\malware\\CTU-IoT-Malware-Capture-1-1conn.log.labeled.csv\""
   ]
  },
  {
   "cell_type": "code",
   "execution_count": 4,
   "metadata": {},
   "outputs": [],
   "source": [
    "df = spark.read.option(\"escape\",\"\\\"\").option(\"delimiter\", \"|\").csv(data, header='true', inferSchema='true')"
   ]
  },
  {
   "cell_type": "code",
   "execution_count": 5,
   "metadata": {},
   "outputs": [
    {
     "data": {
      "text/plain": [
       "(1008748, 23)"
      ]
     },
     "execution_count": 5,
     "metadata": {},
     "output_type": "execute_result"
    }
   ],
   "source": [
    "rows, cols = df.count(), len(df.columns)\n",
    "rows, cols"
   ]
  },
  {
   "cell_type": "code",
   "execution_count": 6,
   "metadata": {},
   "outputs": [
    {
     "name": "stdout",
     "output_type": "stream",
     "text": [
      "root\n",
      " |-- ts: double (nullable = true)\n",
      " |-- uid: string (nullable = true)\n",
      " |-- id.orig_h: string (nullable = true)\n",
      " |-- id.orig_p: double (nullable = true)\n",
      " |-- id.resp_h: string (nullable = true)\n",
      " |-- id.resp_p: double (nullable = true)\n",
      " |-- proto: string (nullable = true)\n",
      " |-- service: string (nullable = true)\n",
      " |-- duration: string (nullable = true)\n",
      " |-- orig_bytes: string (nullable = true)\n",
      " |-- resp_bytes: string (nullable = true)\n",
      " |-- conn_state: string (nullable = true)\n",
      " |-- local_orig: string (nullable = true)\n",
      " |-- local_resp: string (nullable = true)\n",
      " |-- missed_bytes: double (nullable = true)\n",
      " |-- history: string (nullable = true)\n",
      " |-- orig_pkts: double (nullable = true)\n",
      " |-- orig_ip_bytes: double (nullable = true)\n",
      " |-- resp_pkts: double (nullable = true)\n",
      " |-- resp_ip_bytes: double (nullable = true)\n",
      " |-- tunnel_parents: string (nullable = true)\n",
      " |-- label: string (nullable = true)\n",
      " |-- detailed-label: string (nullable = true)\n",
      "\n"
     ]
    }
   ],
   "source": [
    "df.printSchema()"
   ]
  },
  {
   "cell_type": "code",
   "execution_count": 7,
   "metadata": {},
   "outputs": [
    {
     "name": "stdout",
     "output_type": "stream",
     "text": [
      "+-------------------+------------------+---------------+---------+---------------+---------+-----+-------+--------+----------+----------+----------+----------+----------+------------+-------+---------+-------------+---------+-------------+--------------+---------+--------------------+\n",
      "|                 ts|               uid|      id.orig_h|id.orig_p|      id.resp_h|id.resp_p|proto|service|duration|orig_bytes|resp_bytes|conn_state|local_orig|local_resp|missed_bytes|history|orig_pkts|orig_ip_bytes|resp_pkts|resp_ip_bytes|tunnel_parents|    label|      detailed-label|\n",
      "+-------------------+------------------+---------------+---------+---------------+---------+-----+-------+--------+----------+----------+----------+----------+----------+------------+-------+---------+-------------+---------+-------------+--------------+---------+--------------------+\n",
      "|1.525879831015811E9|CUmrqr4svHuSXJy5z7|192.168.100.103|  51524.0| 65.127.233.163|     23.0|  tcp|      -|2.999051|         0|         0|        S0|         -|         -|         0.0|      S|      3.0|        180.0|      0.0|          0.0|             -|Malicious|PartOfAHorizontal...|\n",
      "|1.525879831025055E9|CH98aB3s1kJeq6SFOc|192.168.100.103|  56305.0|  63.150.16.171|     23.0|  tcp|      -|       -|         -|         -|        S0|         -|         -|         0.0|      S|      1.0|         60.0|      0.0|          0.0|             -|Malicious|PartOfAHorizontal...|\n",
      "|1.525879831045045E9| C3GBTkINvXNjVGtN5|192.168.100.103|  41101.0|   111.40.23.49|     23.0|  tcp|      -|       -|         -|         -|        S0|         -|         -|         0.0|      S|      1.0|         60.0|      0.0|          0.0|             -|Malicious|PartOfAHorizontal...|\n",
      "| 1.52587983201624E9| CDe43c1PtgynajGI6|192.168.100.103|  60905.0|131.174.215.147|     23.0|  tcp|      -|2.998796|         0|         0|        S0|         -|         -|         0.0|      S|      3.0|        180.0|      0.0|          0.0|             -|Malicious|PartOfAHorizontal...|\n",
      "|1.525879832024985E9|CJaDcG3MZzvf1YVYI4|192.168.100.103|  44301.0|    91.42.47.63|     23.0|  tcp|      -|       -|         -|         -|        S0|         -|         -|         0.0|      S|      1.0|         60.0|      0.0|          0.0|             -|Malicious|PartOfAHorizontal...|\n",
      "+-------------------+------------------+---------------+---------+---------------+---------+-----+-------+--------+----------+----------+----------+----------+----------+------------+-------+---------+-------------+---------+-------------+--------------+---------+--------------------+\n",
      "only showing top 5 rows\n",
      "\n"
     ]
    }
   ],
   "source": [
    "df.show(5)"
   ]
  },
  {
   "cell_type": "markdown",
   "metadata": {},
   "source": [
    "## Dataset concatenation"
   ]
  },
  {
   "cell_type": "code",
   "execution_count": 8,
   "metadata": {},
   "outputs": [
    {
     "name": "stderr",
     "output_type": "stream",
     "text": [
      "Reading files: 100%|██████████| 10/10 [00:22<00:00,  2.22s/file]\n"
     ]
    },
    {
     "name": "stdout",
     "output_type": "stream",
     "text": [
      "+-------------------+------------------+---------------+---------+---------------+---------+-----+-------+--------+----------+----------+----------+----------+----------+------------+-------+---------+-------------+---------+-------------+--------------+---------+--------------------+\n",
      "|                 ts|               uid|      id.orig_h|id.orig_p|      id.resp_h|id.resp_p|proto|service|duration|orig_bytes|resp_bytes|conn_state|local_orig|local_resp|missed_bytes|history|orig_pkts|orig_ip_bytes|resp_pkts|resp_ip_bytes|tunnel_parents|    label|      detailed-label|\n",
      "+-------------------+------------------+---------------+---------+---------------+---------+-----+-------+--------+----------+----------+----------+----------+----------+------------+-------+---------+-------------+---------+-------------+--------------+---------+--------------------+\n",
      "|1.525879831015811E9|CUmrqr4svHuSXJy5z7|192.168.100.103|  51524.0| 65.127.233.163|     23.0|  tcp|      -|2.999051|         0|         0|        S0|         -|         -|         0.0|      S|      3.0|        180.0|      0.0|          0.0|             -|Malicious|PartOfAHorizontal...|\n",
      "|1.525879831025055E9|CH98aB3s1kJeq6SFOc|192.168.100.103|  56305.0|  63.150.16.171|     23.0|  tcp|      -|       -|         -|         -|        S0|         -|         -|         0.0|      S|      1.0|         60.0|      0.0|          0.0|             -|Malicious|PartOfAHorizontal...|\n",
      "|1.525879831045045E9| C3GBTkINvXNjVGtN5|192.168.100.103|  41101.0|   111.40.23.49|     23.0|  tcp|      -|       -|         -|         -|        S0|         -|         -|         0.0|      S|      1.0|         60.0|      0.0|          0.0|             -|Malicious|PartOfAHorizontal...|\n",
      "| 1.52587983201624E9| CDe43c1PtgynajGI6|192.168.100.103|  60905.0|131.174.215.147|     23.0|  tcp|      -|2.998796|         0|         0|        S0|         -|         -|         0.0|      S|      3.0|        180.0|      0.0|          0.0|             -|Malicious|PartOfAHorizontal...|\n",
      "|1.525879832024985E9|CJaDcG3MZzvf1YVYI4|192.168.100.103|  44301.0|    91.42.47.63|     23.0|  tcp|      -|       -|         -|         -|        S0|         -|         -|         0.0|      S|      1.0|         60.0|      0.0|          0.0|             -|Malicious|PartOfAHorizontal...|\n",
      "+-------------------+------------------+---------------+---------+---------------+---------+-----+-------+--------+----------+----------+----------+----------+----------+------------+-------+---------+-------------+---------+-------------+--------------+---------+--------------------+\n",
      "only showing top 5 rows\n",
      "\n",
      "root\n",
      " |-- ts: double (nullable = true)\n",
      " |-- uid: string (nullable = true)\n",
      " |-- id.orig_h: string (nullable = true)\n",
      " |-- id.orig_p: double (nullable = true)\n",
      " |-- id.resp_h: string (nullable = true)\n",
      " |-- id.resp_p: double (nullable = true)\n",
      " |-- proto: string (nullable = true)\n",
      " |-- service: string (nullable = true)\n",
      " |-- duration: string (nullable = true)\n",
      " |-- orig_bytes: string (nullable = true)\n",
      " |-- resp_bytes: string (nullable = true)\n",
      " |-- conn_state: string (nullable = true)\n",
      " |-- local_orig: string (nullable = true)\n",
      " |-- local_resp: string (nullable = true)\n",
      " |-- missed_bytes: double (nullable = true)\n",
      " |-- history: string (nullable = true)\n",
      " |-- orig_pkts: double (nullable = true)\n",
      " |-- orig_ip_bytes: double (nullable = true)\n",
      " |-- resp_pkts: double (nullable = true)\n",
      " |-- resp_ip_bytes: double (nullable = true)\n",
      " |-- tunnel_parents: string (nullable = true)\n",
      " |-- label: string (nullable = true)\n",
      " |-- detailed-label: string (nullable = true)\n",
      "\n"
     ]
    }
   ],
   "source": [
    "# List of file paths\n",
    "file_paths = [\n",
    "    r\"C:\\Users\\Vincenzo\\Projects\\DDAM_data\\malware\\CTU-IoT-Malware-Capture-1-1conn.log.labeled.csv\",\n",
    "    r\"C:\\Users\\Vincenzo\\Projects\\DDAM_data\\malware\\CTU-IoT-Malware-Capture-3-1conn.log.labeled.csv\",\n",
    "    r\"C:\\Users\\Vincenzo\\Projects\\DDAM_data\\malware\\CTU-IoT-Malware-Capture-9-1conn.log.labeled.csv\",\n",
    "    r\"C:\\Users\\Vincenzo\\Projects\\DDAM_data\\malware\\CTU-IoT-Malware-Capture-20-1conn.log.labeled.csv\",\n",
    "    r\"C:\\Users\\Vincenzo\\Projects\\DDAM_data\\malware\\CTU-IoT-Malware-Capture-21-1conn.log.labeled.csv\",\n",
    "    r\"C:\\Users\\Vincenzo\\Projects\\DDAM_data\\malware\\CTU-IoT-Malware-Capture-34-1conn.log.labeled.csv\",\n",
    "    r\"C:\\Users\\Vincenzo\\Projects\\DDAM_data\\malware\\CTU-IoT-Malware-Capture-35-1conn.log.labeled.csv\",\n",
    "    r\"C:\\Users\\Vincenzo\\Projects\\DDAM_data\\malware\\CTU-IoT-Malware-Capture-42-1conn.log.labeled.csv\",\n",
    "    r\"C:\\Users\\Vincenzo\\Projects\\DDAM_data\\malware\\CTU-IoT-Malware-Capture-44-1conn.log.labeled.csv\",\n",
    "    r\"C:\\Users\\Vincenzo\\Projects\\DDAM_data\\malware\\CTU-IoT-Malware-Capture-48-1conn.log.labeled.csv\",\n",
    "    r\"C:\\Users\\Vincenzo\\Projects\\DDAM_data\\malware\\CTU-IoT-Malware-Capture-60-1conn.log.labeled.csv\",\n",
    "]\n",
    "\n",
    "# Create a Spark session\n",
    "spark = SparkSession.builder.appName(\"example\").getOrCreate()\n",
    "\n",
    "# Read the first file into a DataFrame (to get the schema)\n",
    "df = spark.read.option(\"escape\", \"\\\"\").option(\"delimiter\", \"|\").csv(file_paths[0], header=True, inferSchema=True)\n",
    "\n",
    "# Use tqdm for progress bar\n",
    "for file_path in tqdm(file_paths[1:], desc=\"Reading files\", unit=\"file\"):\n",
    "    df_temp = spark.read.option(\"escape\", \"\\\"\").option(\"delimiter\", \"|\").csv(file_path, header=True, inferSchema=True)\n",
    "    df = df.union(df_temp)\n",
    "\n",
    "# Show the first 5 rows and print the schema\n",
    "df.show(5)\n",
    "df.printSchema()\n"
   ]
  },
  {
   "cell_type": "markdown",
   "metadata": {},
   "source": [
    "## Data understanding"
   ]
  },
  {
   "cell_type": "markdown",
   "metadata": {},
   "source": [
    "### dimension and content analysis"
   ]
  },
  {
   "cell_type": "code",
   "execution_count": 9,
   "metadata": {},
   "outputs": [],
   "source": [
    "#replacing dots with underscores in column names to avoid errors\n",
    "df = df.toDF(*(c.replace('.', '_') for c in df.columns))"
   ]
  },
  {
   "cell_type": "code",
   "execution_count": 10,
   "metadata": {},
   "outputs": [
    {
     "name": "stdout",
     "output_type": "stream",
     "text": [
      "Dimension of the Dataframe is: (25000600, 23)\n"
     ]
    }
   ],
   "source": [
    "rows, cols = df.count(), len(df.columns)\n",
    "print(f'Dimension of the Dataframe is: {(rows,cols)}')"
   ]
  },
  {
   "cell_type": "code",
   "execution_count": 11,
   "metadata": {},
   "outputs": [
    {
     "name": "stdout",
     "output_type": "stream",
     "text": [
      "Le colonne numeriche sono\n",
      "['ts', 'id_orig_p', 'id_resp_p', 'missed_bytes', 'orig_pkts', 'orig_ip_bytes', 'resp_pkts', 'resp_ip_bytes']\n"
     ]
    }
   ],
   "source": [
    "num_cols = [item[0] for item in df.dtypes if item[1] != 'string']\n",
    "print('Le colonne numeriche sono')\n",
    "print(num_cols)"
   ]
  },
  {
   "cell_type": "code",
   "execution_count": 12,
   "metadata": {},
   "outputs": [
    {
     "name": "stdout",
     "output_type": "stream",
     "text": [
      "Le colonne non numeriche sono\n",
      "['uid', 'id_orig_h', 'id_resp_h', 'proto', 'service', 'duration', 'orig_bytes', 'resp_bytes', 'conn_state', 'local_orig', 'local_resp', 'history', 'tunnel_parents', 'label', 'detailed-label']\n"
     ]
    }
   ],
   "source": [
    "non_num_cols = [item[0] for item in df.dtypes if item[1] == 'string']\n",
    "print('Le colonne non numeriche sono')\n",
    "print(non_num_cols)"
   ]
  },
  {
   "cell_type": "code",
   "execution_count": 13,
   "metadata": {},
   "outputs": [
    {
     "name": "stdout",
     "output_type": "stream",
     "text": [
      "+---+---+---------+---------+---------+---------+-----+-------+--------+----------+----------+----------+----------+----------+------------+-------+---------+-------------+---------+-------------+--------------+-----+--------------+\n",
      "| ts|uid|id_orig_h|id_orig_p|id_resp_h|id_resp_p|proto|service|duration|orig_bytes|resp_bytes|conn_state|local_orig|local_resp|missed_bytes|history|orig_pkts|orig_ip_bytes|resp_pkts|resp_ip_bytes|tunnel_parents|label|detailed-label|\n",
      "+---+---+---------+---------+---------+---------+-----+-------+--------+----------+----------+----------+----------+----------+------------+-------+---------+-------------+---------+-------------+--------------+-----+--------------+\n",
      "|  0|  0|        0|        0|        0|        0|    0|      0|       0|         0|         0|         0|         0|         0|           0|      0|        0|            0|        0|            0|             0|    0|       9173954|\n",
      "+---+---+---------+---------+---------+---------+-----+-------+--------+----------+----------+----------+----------+----------+------------+-------+---------+-------------+---------+-------------+--------------+-----+--------------+\n",
      "\n"
     ]
    }
   ],
   "source": [
    "from pyspark.sql.functions import isnan, when, count, col, isnull\n",
    "missing = df.select([count(when(isnull(c), c)).alias(c) for c in df.columns]).show()"
   ]
  },
  {
   "cell_type": "markdown",
   "metadata": {},
   "source": [
    "### Check for missing labels for each file to understandand labelling consistency"
   ]
  },
  {
   "cell_type": "code",
   "execution_count": 14,
   "metadata": {},
   "outputs": [
    {
     "name": "stderr",
     "output_type": "stream",
     "text": [
      "Processing files:   0%|          | 0/11 [00:00<?, ?file/s]"
     ]
    },
    {
     "name": "stdout",
     "output_type": "stream",
     "text": [
      "\n",
      "Missing values in file 1: \n"
     ]
    },
    {
     "name": "stderr",
     "output_type": "stream",
     "text": [
      "Processing files:   9%|▉         | 1/11 [00:01<00:18,  1.87s/file]"
     ]
    },
    {
     "name": "stdout",
     "output_type": "stream",
     "text": [
      "+-------------+\n",
      "|missing_count|\n",
      "+-------------+\n",
      "|            0|\n",
      "+-------------+\n",
      "\n",
      "\n",
      "Missing values in file 3: \n"
     ]
    },
    {
     "name": "stderr",
     "output_type": "stream",
     "text": [
      "Processing files:  18%|█▊        | 2/11 [00:02<00:09,  1.07s/file]"
     ]
    },
    {
     "name": "stdout",
     "output_type": "stream",
     "text": [
      "+-------------+\n",
      "|missing_count|\n",
      "+-------------+\n",
      "|            0|\n",
      "+-------------+\n",
      "\n",
      "\n",
      "Missing values in file 9: \n"
     ]
    },
    {
     "name": "stderr",
     "output_type": "stream",
     "text": [
      "Processing files:  27%|██▋       | 3/11 [00:11<00:39,  4.90s/file]"
     ]
    },
    {
     "name": "stdout",
     "output_type": "stream",
     "text": [
      "+-------------+\n",
      "|missing_count|\n",
      "+-------------+\n",
      "|            0|\n",
      "+-------------+\n",
      "\n",
      "\n"
     ]
    },
    {
     "name": "stderr",
     "output_type": "stream",
     "text": [
      "Processing files:  36%|███▋      | 4/11 [00:12<00:21,  3.05s/file]"
     ]
    },
    {
     "name": "stdout",
     "output_type": "stream",
     "text": [
      "Missing values in file 20: \n",
      "+-------------+\n",
      "|missing_count|\n",
      "+-------------+\n",
      "|            0|\n",
      "+-------------+\n",
      "\n",
      "\n"
     ]
    },
    {
     "name": "stderr",
     "output_type": "stream",
     "text": [
      "Processing files:  45%|████▌     | 5/11 [00:12<00:12,  2.02s/file]"
     ]
    },
    {
     "name": "stdout",
     "output_type": "stream",
     "text": [
      "Missing values in file 21: \n",
      "+-------------+\n",
      "|missing_count|\n",
      "+-------------+\n",
      "|            0|\n",
      "+-------------+\n",
      "\n",
      "\n"
     ]
    },
    {
     "name": "stderr",
     "output_type": "stream",
     "text": [
      "Processing files:  55%|█████▍    | 6/11 [00:12<00:07,  1.44s/file]"
     ]
    },
    {
     "name": "stdout",
     "output_type": "stream",
     "text": [
      "Missing values in file 34: \n",
      "+-------------+\n",
      "|missing_count|\n",
      "+-------------+\n",
      "|        21222|\n",
      "+-------------+\n",
      "\n",
      "\n",
      "Missing values in file 35: \n"
     ]
    },
    {
     "name": "stderr",
     "output_type": "stream",
     "text": [
      "Processing files:  64%|██████▎   | 7/11 [00:26<00:21,  5.40s/file]"
     ]
    },
    {
     "name": "stdout",
     "output_type": "stream",
     "text": [
      "+-------------+\n",
      "|missing_count|\n",
      "+-------------+\n",
      "|      2185386|\n",
      "+-------------+\n",
      "\n",
      "\n",
      "Missing values in file 42: \n"
     ]
    },
    {
     "name": "stderr",
     "output_type": "stream",
     "text": [
      "Processing files:  73%|███████▎  | 8/11 [00:26<00:11,  3.75s/file]"
     ]
    },
    {
     "name": "stdout",
     "output_type": "stream",
     "text": [
      "+-------------+\n",
      "|missing_count|\n",
      "+-------------+\n",
      "|            3|\n",
      "+-------------+\n",
      "\n",
      "\n"
     ]
    },
    {
     "name": "stderr",
     "output_type": "stream",
     "text": [
      "Processing files:  82%|████████▏ | 9/11 [00:26<00:05,  2.63s/file]"
     ]
    },
    {
     "name": "stdout",
     "output_type": "stream",
     "text": [
      "Missing values in file 44: \n",
      "+-------------+\n",
      "|missing_count|\n",
      "+-------------+\n",
      "|           15|\n",
      "+-------------+\n",
      "\n",
      "\n",
      "Missing values in file 48: \n"
     ]
    },
    {
     "name": "stderr",
     "output_type": "stream",
     "text": [
      "Processing files:  91%|█████████ | 10/11 [00:31<00:03,  3.24s/file]"
     ]
    },
    {
     "name": "stdout",
     "output_type": "stream",
     "text": [
      "+-------------+\n",
      "|missing_count|\n",
      "+-------------+\n",
      "|      3388871|\n",
      "+-------------+\n",
      "\n",
      "\n",
      "Missing values in file 60: \n"
     ]
    },
    {
     "name": "stderr",
     "output_type": "stream",
     "text": [
      "Processing files: 100%|██████████| 11/11 [00:35<00:00,  3.23s/file]"
     ]
    },
    {
     "name": "stdout",
     "output_type": "stream",
     "text": [
      "+-------------+\n",
      "|missing_count|\n",
      "+-------------+\n",
      "|      3578457|\n",
      "+-------------+\n",
      "\n"
     ]
    },
    {
     "name": "stderr",
     "output_type": "stream",
     "text": [
      "\n"
     ]
    }
   ],
   "source": [
    "from pyspark.sql.functions import isnan, when, count, col, isnull\n",
    "\n",
    "\n",
    "def check_nan(spark, column_to_check=\"\", label_only=False):\n",
    "    # List of file numbers\n",
    "    file_numbers = [1, 3, 9, 20, 21, 34, 35, 42, 44, 48, 60]\n",
    "    \n",
    "    for number in tqdm(file_numbers, desc=\"Processing files\", unit=\"file\"):\n",
    "    \n",
    "        file_path = r\"C:\\Users\\Vincenzo\\Projects\\DDAM_data\\malware\\CTU-IoT-Malware-Capture-{}-1conn.log.labeled.csv\".format(number)\n",
    "        df = spark.read.option(\"escape\", \"\\\"\").option(\"delimiter\", \"|\").csv(file_path, header='true', inferSchema='true')\n",
    "        df = df.toDF(*(c.replace('.', '_') for c in df.columns))\n",
    "\n",
    "        print(\"\", flush=True)\n",
    "        # Check for missing values\n",
    "        if label_only:\n",
    "            missing = df.select([count(when(isnull(\"detailed-label\"), \"detailed-label\")).alias(\"missing_count\")])\n",
    "            print(\"Missing values in file {}: \".format(number))\n",
    "            missing.select(\"missing_count\").show()\n",
    "\n",
    "        elif column_to_check:\n",
    "            missing = df.select([count(when(isnull(column_to_check), column_to_check)).alias(\"missing_count\")])\n",
    "            print(\"Missing values in file {}: \".format(number))\n",
    "            missing.select(\"missing_count\").show()\n",
    "\n",
    "        elif column_to_check == \"all\":\n",
    "            missing = df.select([count(when(isnull(c), c)).alias(c) for c in df.columns])\n",
    "            print(\"Missing values in file {}: \".format(number))\n",
    "            missing.show()\n",
    "\n",
    "        else:\n",
    "            print(\"Please enter a valid column name or enter True to check the label column only\")\n",
    "\n",
    "# Check for missing values in the label column only\n",
    "check_nan(spark, label_only=True)\n"
   ]
  },
  {
   "cell_type": "markdown",
   "metadata": {},
   "source": [
    "### Check for distinct values and raw statistics"
   ]
  },
  {
   "cell_type": "code",
   "execution_count": 15,
   "metadata": {},
   "outputs": [
    {
     "name": "stderr",
     "output_type": "stream",
     "text": [
      "Counting Distinct Values: 100%|██████████| 23/23 [05:47<00:00, 15.11s/column]"
     ]
    },
    {
     "name": "stdout",
     "output_type": "stream",
     "text": [
      "Column 'ts' has 25000600 distinct values.\n",
      "Column 'uid' has 25000600 distinct values.\n",
      "Column 'id_orig_h' has 21442 distinct values.\n",
      "Column 'id_orig_p' has 65536 distinct values.\n",
      "Column 'id_resp_h' has 11654577 distinct values.\n",
      "Column 'id_resp_p' has 65435 distinct values.\n",
      "Column 'proto' has 3 distinct values.\n",
      "Column 'service' has 7 distinct values.\n",
      "Column 'duration' has 1045931 distinct values.\n",
      "Column 'orig_bytes' has 66149 distinct values.\n",
      "Column 'resp_bytes' has 886 distinct values.\n",
      "Column 'conn_state' has 13 distinct values.\n",
      "Column 'local_orig' has 1 distinct values.\n",
      "Column 'local_resp' has 1 distinct values.\n",
      "Column 'missed_bytes' has 23 distinct values.\n",
      "Column 'history' has 264 distinct values.\n",
      "Column 'orig_pkts' has 207 distinct values.\n",
      "Column 'orig_ip_bytes' has 1858 distinct values.\n",
      "Column 'resp_pkts' has 129 distinct values.\n",
      "Column 'resp_ip_bytes' has 1889 distinct values.\n",
      "Column 'tunnel_parents' has 1 distinct values.\n",
      "Column 'label' has 7 distinct values.\n",
      "Column 'detailed-label' has 7 distinct values.\n"
     ]
    },
    {
     "name": "stderr",
     "output_type": "stream",
     "text": [
      "\n"
     ]
    }
   ],
   "source": [
    "from pyspark.sql.functions import col, countDistinct\n",
    "\n",
    "def count_distinct_values(df):\n",
    "    result = {}\n",
    "    columns = df.columns\n",
    "\n",
    "    # Use tqdm to create a progress bar\n",
    "    for column in tqdm(columns, desc=\"Counting Distinct Values\", unit=\"column\"):\n",
    "        distinct_count = df.select(column).agg(countDistinct(column)).collect()[0][0]\n",
    "        result[column] = distinct_count\n",
    "\n",
    "    return result\n",
    "\n",
    "distinct_counts = count_distinct_values(df)\n",
    "\n",
    "# Print the result\n",
    "for column, count in distinct_counts.items():\n",
    "    print(f\"Column '{column}' has {count} distinct values.\")"
   ]
  },
  {
   "cell_type": "code",
   "execution_count": 16,
   "metadata": {},
   "outputs": [
    {
     "name": "stdout",
     "output_type": "stream",
     "text": [
      "+-------+--------------------+------------------+------------+------------------+-----------+------------------+--------+--------+-----------------+--------------------+--------------------+----------+----------+----------+-----------------+--------+------------------+-----------------+--------------------+------------------+--------------+--------------------+--------------+\n",
      "|summary|                  ts|               uid|   id_orig_h|         id_orig_p|  id_resp_h|         id_resp_p|   proto| service|         duration|          orig_bytes|          resp_bytes|conn_state|local_orig|local_resp|     missed_bytes| history|         orig_pkts|    orig_ip_bytes|           resp_pkts|     resp_ip_bytes|tunnel_parents|               label|detailed-label|\n",
      "+-------+--------------------+------------------+------------+------------------+-----------+------------------+--------+--------+-----------------+--------------------+--------------------+----------+----------+----------+-----------------+--------+------------------+-----------------+--------------------+------------------+--------------+--------------------+--------------+\n",
      "|  count|            25000600|          25000600|    25000600|          25000600|   25000600|          25000600|25000600|25000600|         25000600|            25000600|            25000600|  25000600|  25000600|  25000600|         25000600|25000600|          25000600|         25000600|            25000600|          25000600|      25000600|            25000600|      15826646|\n",
      "|   mean| 1.545444771111329E9|              NULL|        NULL| 39912.79891898594|       NULL| 9714.519342175789|    NULL|    NULL|3.382299030705386|2.1998371203670874E8|  3457.1976633720647|      NULL|      NULL|      NULL|76.36013899666408|    NULL|13.508834027983328|590.2281178451717|0.014572610257353824|1.7482263225682584|          NULL|                NULL|          NULL|\n",
      "| stddev|1.2003567012113284E7|              NULL|        NULL|16090.793857809633|       NULL|22178.223936131817|    NULL|    NULL|60.01880952312349| 2.731340253047561E9|1.0185058751506891E7|      NULL|      NULL|      NULL|381759.3150179955|    NULL|17515.340014021454|687953.4074515603|  4.1902265695645475|  376.273102655407|          NULL|                NULL|          NULL|\n",
      "|    min| 1.525879831015073E9|C000004PRnYaVbKEL5| 1.1.153.232|               0.0|  1.0.0.109|               0.0|    icmp|       -|                -|                   -|                   -|       OTH|         -|         -|              0.0|       -|               0.0|              0.0|                 0.0|               0.0|             -|              Benign|             -|\n",
      "|    max| 1.569026390773122E9|Czzzyi34M6fJkXFAz6|99.95.31.158|           65535.0|99.99.99.99|           65535.0|     udp|     ssl|            9e-06|                 992|                 994|       SHR|         -|         -|     1.90881948E9|      ^r|       6.6027354E7|    1.914793266E9|              9613.0|          520116.0|             -|Malicious   PartO...|         Torii|\n",
      "+-------+--------------------+------------------+------------+------------------+-----------+------------------+--------+--------+-----------------+--------------------+--------------------+----------+----------+----------+-----------------+--------+------------------+-----------------+--------------------+------------------+--------------+--------------------+--------------+\n",
      "\n"
     ]
    }
   ],
   "source": [
    "# Use the describe function to get statistical summary\n",
    "\n",
    "summary = df.describe()\n",
    "summary.show()\n"
   ]
  },
  {
   "cell_type": "code",
   "execution_count": 17,
   "metadata": {},
   "outputs": [
    {
     "name": "stdout",
     "output_type": "stream",
     "text": [
      "Summary of numeric columns:\n",
      "+--------------------+------------------+------------------+-----------------+------------------+-----------------+--------------------+------------------+\n",
      "|                  ts|         id_orig_p|         id_resp_p|     missed_bytes|         orig_pkts|    orig_ip_bytes|           resp_pkts|     resp_ip_bytes|\n",
      "+--------------------+------------------+------------------+-----------------+------------------+-----------------+--------------------+------------------+\n",
      "|            25000600|          25000600|          25000600|         25000600|          25000600|         25000600|            25000600|          25000600|\n",
      "| 1.545444771111329E9| 39912.79891898594| 9714.519342175789|76.36013899666408|13.508834027983328|590.2281178451717|0.014572610257353824|1.7482263225682584|\n",
      "|1.2003567012113284E7|16090.793857809633|22178.223936131817|381759.3150179955|17515.340014021454|687953.4074515603|  4.1902265695645475|  376.273102655407|\n",
      "| 1.525879831015073E9|               0.0|               0.0|              0.0|               0.0|              0.0|                 0.0|               0.0|\n",
      "| 1.569026390773122E9|           65535.0|           65535.0|     1.90881948E9|       6.6027354E7|    1.914793266E9|              9613.0|          520116.0|\n",
      "+--------------------+------------------+------------------+-----------------+------------------+-----------------+--------------------+------------------+\n",
      "\n",
      "Summary of non-numeric columns:\n",
      "+------------------+------------+-----------+--------+--------+-----------------+--------------------+--------------------+----------+----------+----------+--------+--------------+--------------------+--------------+\n",
      "|               uid|   id_orig_h|  id_resp_h|   proto| service|         duration|          orig_bytes|          resp_bytes|conn_state|local_orig|local_resp| history|tunnel_parents|               label|detailed-label|\n",
      "+------------------+------------+-----------+--------+--------+-----------------+--------------------+--------------------+----------+----------+----------+--------+--------------+--------------------+--------------+\n",
      "|          25000600|    25000600|   25000600|25000600|25000600|         25000600|            25000600|            25000600|  25000600|  25000600|  25000600|25000600|      25000600|            25000600|      15826646|\n",
      "|              NULL|        NULL|       NULL|    NULL|    NULL|3.382299030705386|2.1998371203670874E8|  3457.1976633720647|      NULL|      NULL|      NULL|    NULL|          NULL|                NULL|          NULL|\n",
      "|              NULL|        NULL|       NULL|    NULL|    NULL|60.01880952312349| 2.731340253047561E9|1.0185058751506891E7|      NULL|      NULL|      NULL|    NULL|          NULL|                NULL|          NULL|\n",
      "|C000004PRnYaVbKEL5| 1.1.153.232|  1.0.0.109|    icmp|       -|                -|                   -|                   -|       OTH|         -|         -|       -|             -|              Benign|             -|\n",
      "|Czzzyi34M6fJkXFAz6|99.95.31.158|99.99.99.99|     udp|     ssl|            9e-06|                 992|                 994|       SHR|         -|         -|      ^r|             -|Malicious   PartO...|         Torii|\n",
      "+------------------+------------+-----------+--------+--------+-----------------+--------------------+--------------------+----------+----------+----------+--------+--------------+--------------------+--------------+\n",
      "\n"
     ]
    }
   ],
   "source": [
    "num_summary = summary.select(*num_cols)\n",
    "non_num_summary = summary.select(*non_num_cols)\n",
    "\n",
    "print(\"Summary of numeric columns:\")\n",
    "num_summary.show()\n",
    "\n",
    "print(\"Summary of non-numeric columns:\")\n",
    "non_num_summary.show()"
   ]
  },
  {
   "cell_type": "code",
   "execution_count": null,
   "metadata": {},
   "outputs": [],
   "source": []
  }
 ],
 "metadata": {
  "kernelspec": {
   "display_name": "venv",
   "language": "python",
   "name": "python3"
  },
  "language_info": {
   "codemirror_mode": {
    "name": "ipython",
    "version": 3
   },
   "file_extension": ".py",
   "mimetype": "text/x-python",
   "name": "python",
   "nbconvert_exporter": "python",
   "pygments_lexer": "ipython3",
   "version": "3.12.1"
  }
 },
 "nbformat": 4,
 "nbformat_minor": 2
}
