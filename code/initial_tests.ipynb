{
 "cells": [
  {
   "cell_type": "markdown",
   "metadata": {},
   "source": [
    "# Malware Detection in Network Traffic Data"
   ]
  },
  {
   "cell_type": "markdown",
   "metadata": {},
   "source": [
    "## Imports and spark setup"
   ]
  },
  {
   "cell_type": "code",
   "execution_count": 41,
   "metadata": {},
   "outputs": [],
   "source": [
    "import pyspark\n",
    "import os\n",
    "import pandas as pd\n",
    "import matplotlib.pyplot as plt\n",
    "import seaborn as sns\n",
    "from pyspark.sql import SQLContext, SparkSession\n",
    "\n",
    "spark = SparkSession.builder.appName('Malware').getOrCreate()\n",
    "#sc = spark.sparkContext\n",
    "#sqlsc = SQLContext(spark)\n",
    "\n",
    "import os\n",
    "os.environ['HADOOP_HOME'] = 'C:/dummy/hadoop_home'"
   ]
  },
  {
   "cell_type": "code",
   "execution_count": 42,
   "metadata": {},
   "outputs": [
    {
     "name": "stdout",
     "output_type": "stream",
     "text": [
      "[('spark.sql.warehouse.dir', 'file:/C:/Users/Vincenzo/Projects/DDAM_Project_23-24/code/spark-warehouse'), ('spark.driver.port', '55917'), ('spark.executor.id', 'driver'), ('spark.driver.extraJavaOptions', '-Djava.net.preferIPv6Addresses=false -XX:+IgnoreUnrecognizedVMOptions --add-opens=java.base/java.lang=ALL-UNNAMED --add-opens=java.base/java.lang.invoke=ALL-UNNAMED --add-opens=java.base/java.lang.reflect=ALL-UNNAMED --add-opens=java.base/java.io=ALL-UNNAMED --add-opens=java.base/java.net=ALL-UNNAMED --add-opens=java.base/java.nio=ALL-UNNAMED --add-opens=java.base/java.util=ALL-UNNAMED --add-opens=java.base/java.util.concurrent=ALL-UNNAMED --add-opens=java.base/java.util.concurrent.atomic=ALL-UNNAMED --add-opens=java.base/sun.nio.ch=ALL-UNNAMED --add-opens=java.base/sun.nio.cs=ALL-UNNAMED --add-opens=java.base/sun.security.action=ALL-UNNAMED --add-opens=java.base/sun.util.calendar=ALL-UNNAMED --add-opens=java.security.jgss/sun.security.krb5=ALL-UNNAMED -Djdk.reflect.useDirectMethodHandle=false'), ('spark.app.name', 'Malware'), ('spark.rdd.compress', 'True'), ('spark.driver.host', '192.168.1.143'), ('spark.serializer.objectStreamReset', '100'), ('spark.app.submitTime', '1702330844258'), ('spark.master', 'local[*]'), ('spark.submit.pyFiles', ''), ('spark.app.startTime', '1702330844336'), ('spark.submit.deployMode', 'client'), ('spark.app.id', 'local-1702330844928'), ('spark.ui.showConsoleProgress', 'true'), ('spark.executor.extraJavaOptions', '-Djava.net.preferIPv6Addresses=false -XX:+IgnoreUnrecognizedVMOptions --add-opens=java.base/java.lang=ALL-UNNAMED --add-opens=java.base/java.lang.invoke=ALL-UNNAMED --add-opens=java.base/java.lang.reflect=ALL-UNNAMED --add-opens=java.base/java.io=ALL-UNNAMED --add-opens=java.base/java.net=ALL-UNNAMED --add-opens=java.base/java.nio=ALL-UNNAMED --add-opens=java.base/java.util=ALL-UNNAMED --add-opens=java.base/java.util.concurrent=ALL-UNNAMED --add-opens=java.base/java.util.concurrent.atomic=ALL-UNNAMED --add-opens=java.base/sun.nio.ch=ALL-UNNAMED --add-opens=java.base/sun.nio.cs=ALL-UNNAMED --add-opens=java.base/sun.security.action=ALL-UNNAMED --add-opens=java.base/sun.util.calendar=ALL-UNNAMED --add-opens=java.security.jgss/sun.security.krb5=ALL-UNNAMED -Djdk.reflect.useDirectMethodHandle=false')]\n"
     ]
    }
   ],
   "source": [
    "print(spark.sparkContext.getConf().getAll())"
   ]
  },
  {
   "cell_type": "markdown",
   "metadata": {},
   "source": [
    "## Presentation"
   ]
  },
  {
   "cell_type": "code",
   "execution_count": 43,
   "metadata": {},
   "outputs": [],
   "source": [
    "data = r\"C:\\Users\\Vincenzo\\Projects\\DDAM_data\\malware\\CTU-IoT-Malware-Capture-1-1conn.log.labeled.csv\""
   ]
  },
  {
   "cell_type": "code",
   "execution_count": 44,
   "metadata": {},
   "outputs": [],
   "source": [
    "df = spark.read.option(\"escape\",\"\\\"\").option(\"delimiter\", \"|\").csv(data, header='true', inferSchema='true')"
   ]
  },
  {
   "cell_type": "code",
   "execution_count": 45,
   "metadata": {},
   "outputs": [
    {
     "data": {
      "text/plain": [
       "(1008748, 23)"
      ]
     },
     "execution_count": 45,
     "metadata": {},
     "output_type": "execute_result"
    }
   ],
   "source": [
    "rows, cols = df.count(), len(df.columns)\n",
    "rows, cols"
   ]
  },
  {
   "cell_type": "code",
   "execution_count": 46,
   "metadata": {},
   "outputs": [
    {
     "name": "stdout",
     "output_type": "stream",
     "text": [
      "root\n",
      " |-- ts: double (nullable = true)\n",
      " |-- uid: string (nullable = true)\n",
      " |-- id.orig_h: string (nullable = true)\n",
      " |-- id.orig_p: double (nullable = true)\n",
      " |-- id.resp_h: string (nullable = true)\n",
      " |-- id.resp_p: double (nullable = true)\n",
      " |-- proto: string (nullable = true)\n",
      " |-- service: string (nullable = true)\n",
      " |-- duration: string (nullable = true)\n",
      " |-- orig_bytes: string (nullable = true)\n",
      " |-- resp_bytes: string (nullable = true)\n",
      " |-- conn_state: string (nullable = true)\n",
      " |-- local_orig: string (nullable = true)\n",
      " |-- local_resp: string (nullable = true)\n",
      " |-- missed_bytes: double (nullable = true)\n",
      " |-- history: string (nullable = true)\n",
      " |-- orig_pkts: double (nullable = true)\n",
      " |-- orig_ip_bytes: double (nullable = true)\n",
      " |-- resp_pkts: double (nullable = true)\n",
      " |-- resp_ip_bytes: double (nullable = true)\n",
      " |-- tunnel_parents: string (nullable = true)\n",
      " |-- label: string (nullable = true)\n",
      " |-- detailed-label: string (nullable = true)\n",
      "\n"
     ]
    }
   ],
   "source": [
    "df.printSchema()"
   ]
  },
  {
   "cell_type": "code",
   "execution_count": 47,
   "metadata": {},
   "outputs": [
    {
     "name": "stdout",
     "output_type": "stream",
     "text": [
      "+-------------------+------------------+---------------+---------+---------------+---------+-----+-------+--------+----------+----------+----------+----------+----------+------------+-------+---------+-------------+---------+-------------+--------------+---------+--------------------+\n",
      "|                 ts|               uid|      id.orig_h|id.orig_p|      id.resp_h|id.resp_p|proto|service|duration|orig_bytes|resp_bytes|conn_state|local_orig|local_resp|missed_bytes|history|orig_pkts|orig_ip_bytes|resp_pkts|resp_ip_bytes|tunnel_parents|    label|      detailed-label|\n",
      "+-------------------+------------------+---------------+---------+---------------+---------+-----+-------+--------+----------+----------+----------+----------+----------+------------+-------+---------+-------------+---------+-------------+--------------+---------+--------------------+\n",
      "|1.525879831015811E9|CUmrqr4svHuSXJy5z7|192.168.100.103|  51524.0| 65.127.233.163|     23.0|  tcp|      -|2.999051|         0|         0|        S0|         -|         -|         0.0|      S|      3.0|        180.0|      0.0|          0.0|             -|Malicious|PartOfAHorizontal...|\n",
      "|1.525879831025055E9|CH98aB3s1kJeq6SFOc|192.168.100.103|  56305.0|  63.150.16.171|     23.0|  tcp|      -|       -|         -|         -|        S0|         -|         -|         0.0|      S|      1.0|         60.0|      0.0|          0.0|             -|Malicious|PartOfAHorizontal...|\n",
      "|1.525879831045045E9| C3GBTkINvXNjVGtN5|192.168.100.103|  41101.0|   111.40.23.49|     23.0|  tcp|      -|       -|         -|         -|        S0|         -|         -|         0.0|      S|      1.0|         60.0|      0.0|          0.0|             -|Malicious|PartOfAHorizontal...|\n",
      "| 1.52587983201624E9| CDe43c1PtgynajGI6|192.168.100.103|  60905.0|131.174.215.147|     23.0|  tcp|      -|2.998796|         0|         0|        S0|         -|         -|         0.0|      S|      3.0|        180.0|      0.0|          0.0|             -|Malicious|PartOfAHorizontal...|\n",
      "|1.525879832024985E9|CJaDcG3MZzvf1YVYI4|192.168.100.103|  44301.0|    91.42.47.63|     23.0|  tcp|      -|       -|         -|         -|        S0|         -|         -|         0.0|      S|      1.0|         60.0|      0.0|          0.0|             -|Malicious|PartOfAHorizontal...|\n",
      "+-------------------+------------------+---------------+---------+---------------+---------+-----+-------+--------+----------+----------+----------+----------+----------+------------+-------+---------+-------------+---------+-------------+--------------+---------+--------------------+\n",
      "only showing top 5 rows\n",
      "\n"
     ]
    }
   ],
   "source": [
    "df.show(5)"
   ]
  },
  {
   "cell_type": "markdown",
   "metadata": {},
   "source": [
    "## Dataset concatenation"
   ]
  },
  {
   "cell_type": "code",
   "execution_count": 48,
   "metadata": {},
   "outputs": [
    {
     "name": "stdout",
     "output_type": "stream",
     "text": [
      "+-------------------+------------------+---------------+---------+---------------+---------+-----+-------+--------+----------+----------+----------+----------+----------+------------+-------+---------+-------------+---------+-------------+--------------+---------+--------------------+\n",
      "|                 ts|               uid|      id.orig_h|id.orig_p|      id.resp_h|id.resp_p|proto|service|duration|orig_bytes|resp_bytes|conn_state|local_orig|local_resp|missed_bytes|history|orig_pkts|orig_ip_bytes|resp_pkts|resp_ip_bytes|tunnel_parents|    label|      detailed-label|\n",
      "+-------------------+------------------+---------------+---------+---------------+---------+-----+-------+--------+----------+----------+----------+----------+----------+------------+-------+---------+-------------+---------+-------------+--------------+---------+--------------------+\n",
      "|1.525879831015811E9|CUmrqr4svHuSXJy5z7|192.168.100.103|  51524.0| 65.127.233.163|     23.0|  tcp|      -|2.999051|         0|         0|        S0|         -|         -|         0.0|      S|      3.0|        180.0|      0.0|          0.0|             -|Malicious|PartOfAHorizontal...|\n",
      "|1.525879831025055E9|CH98aB3s1kJeq6SFOc|192.168.100.103|  56305.0|  63.150.16.171|     23.0|  tcp|      -|       -|         -|         -|        S0|         -|         -|         0.0|      S|      1.0|         60.0|      0.0|          0.0|             -|Malicious|PartOfAHorizontal...|\n",
      "|1.525879831045045E9| C3GBTkINvXNjVGtN5|192.168.100.103|  41101.0|   111.40.23.49|     23.0|  tcp|      -|       -|         -|         -|        S0|         -|         -|         0.0|      S|      1.0|         60.0|      0.0|          0.0|             -|Malicious|PartOfAHorizontal...|\n",
      "| 1.52587983201624E9| CDe43c1PtgynajGI6|192.168.100.103|  60905.0|131.174.215.147|     23.0|  tcp|      -|2.998796|         0|         0|        S0|         -|         -|         0.0|      S|      3.0|        180.0|      0.0|          0.0|             -|Malicious|PartOfAHorizontal...|\n",
      "|1.525879832024985E9|CJaDcG3MZzvf1YVYI4|192.168.100.103|  44301.0|    91.42.47.63|     23.0|  tcp|      -|       -|         -|         -|        S0|         -|         -|         0.0|      S|      1.0|         60.0|      0.0|          0.0|             -|Malicious|PartOfAHorizontal...|\n",
      "|1.525879832044975E9|CMBrup3BLXivSp4Avc|192.168.100.103|  50244.0|120.210.108.200|     23.0|  tcp|      -|       -|         -|         -|        S0|         -|         -|         0.0|      S|      1.0|         60.0|      0.0|          0.0|             -|Malicious|PartOfAHorizontal...|\n",
      "|1.525879833016171E9|CfHl9r3XMYtDQRrHnh|192.168.100.103|  34243.0|   147.7.65.203|  49560.0|  tcp|      -|2.998804|         0|         0|        S0|         -|         -|         0.0|      S|      3.0|        180.0|      0.0|          0.0|             -|   Benign|                   -|\n",
      "|1.525879833044906E9|C7USrA15nFVkniMqC5|192.168.100.103|  34840.0|   145.164.35.6|  21288.0|  tcp|      -|       -|         -|         -|        S0|         -|         -|         0.0|      S|      1.0|         60.0|      0.0|          0.0|             -|   Benign|                   -|\n",
      "|1.525879834024847E9| CDtZ4so7bHKpIeCmi|192.168.100.103|  58525.0| 177.75.151.125|     23.0|  tcp|      -|       -|         -|         -|        S0|         -|         -|         0.0|      S|      1.0|         60.0|      0.0|          0.0|             -|Malicious|PartOfAHorizontal...|\n",
      "|1.525879834045086E9| Cj9lm7amKnWiNDh9c|192.168.100.103|  43849.0|  94.145.70.119|   8080.0|  tcp|      -|       -|         -|         -|        S0|         -|         -|         0.0|      S|      1.0|         60.0|      0.0|          0.0|             -|Malicious|PartOfAHorizontal...|\n",
      "|1.525879836044966E9|CgeVK21nm6PyVgJ4ah|192.168.100.103|  40973.0| 62.239.193.205|   8080.0|  tcp|      -|       -|         -|         -|        S0|         -|         -|         0.0|      S|      1.0|         60.0|      0.0|          0.0|             -|Malicious|PartOfAHorizontal...|\n",
      "|1.525879837005652E9|CFXxTW19F3sluNEkJk|192.168.100.103|  52259.0|193.189.106.178|     23.0|  tcp|      -|2.999300|         0|         0|        S0|         -|         -|         0.0|      S|      3.0|        180.0|      0.0|          0.0|             -|Malicious|PartOfAHorizontal...|\n",
      "|1.525879838006081E9|CRRl9U39PzvL3OiS61|192.168.100.103|  42207.0|  10.169.219.98|   8080.0|  tcp|      -|2.993548|         0|         0|        S0|         -|         -|         0.0|      S|      3.0|        180.0|      0.0|          0.0|             -|Malicious|PartOfAHorizontal...|\n",
      "|1.525879838024838E9|C9hk4p2z9Y6AvlzLff|192.168.100.103|  51524.0| 65.127.233.163|     23.0|  tcp|      -|       -|         -|         -|        S0|         -|         -|         0.0|      S|      1.0|         60.0|      0.0|          0.0|             -|Malicious|PartOfAHorizontal...|\n",
      "|1.525879839006262E9|Cx7t1f1wqRES8kiTq6|192.168.100.103|  40459.0|212.110.180.188|     23.0|  tcp|      -|2.998807|         0|         0|        S0|         -|         -|         0.0|      S|      3.0|        180.0|      0.0|          0.0|             -|Malicious|PartOfAHorizontal...|\n",
      "|1.525879839025003E9| C3AFse2JfKAgalsik|192.168.100.103|  60905.0|131.174.215.147|     23.0|  tcp|      -|       -|         -|         -|        S0|         -|         -|         0.0|      S|      1.0|         60.0|      0.0|          0.0|             -|Malicious|PartOfAHorizontal...|\n",
      "|1.525879839044992E9| CdQJe43wv9ipLJklh|192.168.100.103|  56305.0|  63.150.16.171|     23.0|  tcp|      -|       -|         -|         -|        S0|         -|         -|         0.0|      S|      1.0|         60.0|      0.0|          0.0|             -|Malicious|PartOfAHorizontal...|\n",
      "|1.525879840024934E9|C3ajsm4byxMkPys9Wa|192.168.100.103|  34243.0|   147.7.65.203|  49560.0|  tcp|      -|       -|         -|         -|        S0|         -|         -|         0.0|      S|      1.0|         60.0|      0.0|          0.0|             -|   Benign|                   -|\n",
      "|1.525879840044922E9|Cta8kR3Zfh09uPo77k|192.168.100.103|  44301.0|    91.42.47.63|     23.0|  tcp|      -|       -|         -|         -|        S0|         -|         -|         0.0|      S|      1.0|         60.0|      0.0|          0.0|             -|Malicious|PartOfAHorizontal...|\n",
      "|1.525879841005875E9|CRwLRg1TuvUDjEHuI5|192.168.100.103|  39813.0|  167.185.30.24|     23.0|  tcp|      -|2.999050|         0|         0|        S0|         -|         -|         0.0|      S|      3.0|        180.0|      0.0|          0.0|             -|Malicious|PartOfAHorizontal...|\n",
      "+-------------------+------------------+---------------+---------+---------------+---------+-----+-------+--------+----------+----------+----------+----------+----------+------------+-------+---------+-------------+---------+-------------+--------------+---------+--------------------+\n",
      "only showing top 20 rows\n",
      "\n"
     ]
    }
   ],
   "source": [
    "# List of file paths\n",
    "file_paths = [\n",
    "    \n",
    "    r\"C:\\Users\\Vincenzo\\Projects\\DDAM_data\\malware\\CTU-IoT-Malware-Capture-1-1conn.log.labeled.csv\",\n",
    "    r\"C:\\Users\\Vincenzo\\Projects\\DDAM_data\\malware\\CTU-IoT-Malware-Capture-3-1conn.log.labeled.csv\",\n",
    "    r\"C:\\Users\\Vincenzo\\Projects\\DDAM_data\\malware\\CTU-IoT-Malware-Capture-9-1conn.log.labeled.csv\",\n",
    "    r\"C:\\Users\\Vincenzo\\Projects\\DDAM_data\\malware\\CTU-IoT-Malware-Capture-20-1conn.log.labeled.csv\",\n",
    "    r\"C:\\Users\\Vincenzo\\Projects\\DDAM_data\\malware\\CTU-IoT-Malware-Capture-21-1conn.log.labeled.csv\",\n",
    "    r\"C:\\Users\\Vincenzo\\Projects\\DDAM_data\\malware\\CTU-IoT-Malware-Capture-34-1conn.log.labeled.csv\",\n",
    "    r\"C:\\Users\\Vincenzo\\Projects\\DDAM_data\\malware\\CTU-IoT-Malware-Capture-35-1conn.log.labeled.csv\",\n",
    "    r\"C:\\Users\\Vincenzo\\Projects\\DDAM_data\\malware\\CTU-IoT-Malware-Capture-42-1conn.log.labeled.csv\",\n",
    "    r\"C:\\Users\\Vincenzo\\Projects\\DDAM_data\\malware\\CTU-IoT-Malware-Capture-44-1conn.log.labeled.csv\",\n",
    "    r\"C:\\Users\\Vincenzo\\Projects\\DDAM_data\\malware\\CTU-IoT-Malware-Capture-48-1conn.log.labeled.csv\",\n",
    "    r\"C:\\Users\\Vincenzo\\Projects\\DDAM_data\\malware\\CTU-IoT-Malware-Capture-60-1conn.log.labeled.csv\",\n",
    "\n",
    "]\n",
    "\n",
    "# Read the first file into a DataFrame (to get the schema)\n",
    "df = spark.read.option(\"escape\",\"\\\"\").option(\"delimiter\", \"|\").csv(file_paths[0], header=True, inferSchema=True)\n",
    "\n",
    "for file_path in file_paths[1:]:\n",
    "    df_temp = spark.read.option(\"escape\",\"\\\"\").option(\"delimiter\", \"|\").csv(file_path, header=True, inferSchema=True)\n",
    "    df = df.union(df_temp)\n",
    "\n",
    "df.show(20)\n"
   ]
  },
  {
   "cell_type": "markdown",
   "metadata": {},
   "source": [
    "## Data understanding"
   ]
  },
  {
   "cell_type": "code",
   "execution_count": 49,
   "metadata": {},
   "outputs": [
    {
     "name": "stdout",
     "output_type": "stream",
     "text": [
      "Dimension of the Dataframe is: (25000600, 23)\n"
     ]
    }
   ],
   "source": [
    "rows, cols = df.count(), len(df.columns)\n",
    "print(f'Dimension of the Dataframe is: {(rows,cols)}')"
   ]
  },
  {
   "cell_type": "code",
   "execution_count": 51,
   "metadata": {},
   "outputs": [
    {
     "name": "stdout",
     "output_type": "stream",
     "text": [
      "Le colonne numeriche sono\n",
      "['ts', 'id.orig_p', 'id.resp_p', 'missed_bytes', 'orig_pkts', 'orig_ip_bytes', 'resp_pkts', 'resp_ip_bytes']\n"
     ]
    }
   ],
   "source": [
    "num_cols = [item[0] for item in df.dtypes if item[1] != 'string']\n",
    "print('Le colonne numeriche sono')\n",
    "print(num_cols)"
   ]
  },
  {
   "cell_type": "code",
   "execution_count": 54,
   "metadata": {},
   "outputs": [
    {
     "name": "stdout",
     "output_type": "stream",
     "text": [
      "Le colonne non numeriche sono\n",
      "['uid', 'id.orig_h', 'id.resp_h', 'proto', 'service', 'duration', 'orig_bytes', 'resp_bytes', 'conn_state', 'local_orig', 'local_resp', 'history', 'tunnel_parents', 'label', 'detailed-label']\n"
     ]
    }
   ],
   "source": [
    "non_num_cols = [item[0] for item in df.dtypes if item[1] == 'string']\n",
    "print('Le colonne non numeriche sono')\n",
    "print(non_num_cols)"
   ]
  },
  {
   "cell_type": "code",
   "execution_count": null,
   "metadata": {},
   "outputs": [],
   "source": []
  }
 ],
 "metadata": {
  "kernelspec": {
   "display_name": "venv",
   "language": "python",
   "name": "python3"
  },
  "language_info": {
   "codemirror_mode": {
    "name": "ipython",
    "version": 3
   },
   "file_extension": ".py",
   "mimetype": "text/x-python",
   "name": "python",
   "nbconvert_exporter": "python",
   "pygments_lexer": "ipython3",
   "version": "3.12.1"
  }
 },
 "nbformat": 4,
 "nbformat_minor": 2
}
