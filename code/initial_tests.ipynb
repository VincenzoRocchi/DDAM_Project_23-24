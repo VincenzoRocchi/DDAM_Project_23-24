{
 "cells": [
  {
   "cell_type": "markdown",
   "metadata": {},
   "source": [
    "# Malware Detection in Network Traffic Data"
   ]
  },
  {
   "cell_type": "markdown",
   "metadata": {},
   "source": [
    "## Imports and spark setup"
   ]
  },
  {
   "cell_type": "code",
   "execution_count": 1,
   "metadata": {},
   "outputs": [],
   "source": [
    "import pyspark\n",
    "from tqdm import tqdm\n",
    "import os\n",
    "import pandas as pd\n",
    "import matplotlib.pyplot as plt\n",
    "import seaborn as sns\n",
    "from pyspark.sql import SQLContext, SparkSession\n",
    "\n",
    "spark = SparkSession.builder.appName('Malware').config(\"spark.executor.memory\", \"8g\").getOrCreate()\n",
    "\n",
    "#sc = spark.sparkContext\n",
    "#sqlsc = SQLContext(spark)\n",
    "\n",
    "import os\n",
    "os.environ['HADOOP_HOME'] = 'C:/dummy/hadoop_home'"
   ]
  },
  {
   "cell_type": "code",
   "execution_count": 2,
   "metadata": {},
   "outputs": [
    {
     "name": "stdout",
     "output_type": "stream",
     "text": [
      "[('spark.executor.id', 'driver'), ('spark.driver.extraJavaOptions', '-Djava.net.preferIPv6Addresses=false -XX:+IgnoreUnrecognizedVMOptions --add-opens=java.base/java.lang=ALL-UNNAMED --add-opens=java.base/java.lang.invoke=ALL-UNNAMED --add-opens=java.base/java.lang.reflect=ALL-UNNAMED --add-opens=java.base/java.io=ALL-UNNAMED --add-opens=java.base/java.net=ALL-UNNAMED --add-opens=java.base/java.nio=ALL-UNNAMED --add-opens=java.base/java.util=ALL-UNNAMED --add-opens=java.base/java.util.concurrent=ALL-UNNAMED --add-opens=java.base/java.util.concurrent.atomic=ALL-UNNAMED --add-opens=java.base/sun.nio.ch=ALL-UNNAMED --add-opens=java.base/sun.nio.cs=ALL-UNNAMED --add-opens=java.base/sun.security.action=ALL-UNNAMED --add-opens=java.base/sun.util.calendar=ALL-UNNAMED --add-opens=java.security.jgss/sun.security.krb5=ALL-UNNAMED -Djdk.reflect.useDirectMethodHandle=false'), ('spark.driver.port', '54529'), ('spark.app.name', 'Malware'), ('spark.rdd.compress', 'True'), ('spark.driver.host', '192.168.1.143'), ('spark.serializer.objectStreamReset', '100'), ('spark.app.startTime', '1702419340072'), ('spark.master', 'local[*]'), ('spark.executor.memory', '8g'), ('spark.submit.pyFiles', ''), ('spark.submit.deployMode', 'client'), ('spark.app.id', 'local-1702419340687'), ('spark.ui.showConsoleProgress', 'true'), ('spark.executor.extraJavaOptions', '-Djava.net.preferIPv6Addresses=false -XX:+IgnoreUnrecognizedVMOptions --add-opens=java.base/java.lang=ALL-UNNAMED --add-opens=java.base/java.lang.invoke=ALL-UNNAMED --add-opens=java.base/java.lang.reflect=ALL-UNNAMED --add-opens=java.base/java.io=ALL-UNNAMED --add-opens=java.base/java.net=ALL-UNNAMED --add-opens=java.base/java.nio=ALL-UNNAMED --add-opens=java.base/java.util=ALL-UNNAMED --add-opens=java.base/java.util.concurrent=ALL-UNNAMED --add-opens=java.base/java.util.concurrent.atomic=ALL-UNNAMED --add-opens=java.base/sun.nio.ch=ALL-UNNAMED --add-opens=java.base/sun.nio.cs=ALL-UNNAMED --add-opens=java.base/sun.security.action=ALL-UNNAMED --add-opens=java.base/sun.util.calendar=ALL-UNNAMED --add-opens=java.security.jgss/sun.security.krb5=ALL-UNNAMED -Djdk.reflect.useDirectMethodHandle=false'), ('spark.app.submitTime', '1702419340000')]\n"
     ]
    }
   ],
   "source": [
    "print(spark.sparkContext.getConf().getAll())"
   ]
  },
  {
   "cell_type": "markdown",
   "metadata": {},
   "source": [
    "## Presentation"
   ]
  },
  {
   "cell_type": "code",
   "execution_count": 3,
   "metadata": {},
   "outputs": [],
   "source": [
    "data = r\"C:\\Users\\Vincenzo\\Projects\\DDAM_data\\malware\\CTU-IoT-Malware-Capture-1-1conn.log.labeled.csv\""
   ]
  },
  {
   "cell_type": "code",
   "execution_count": 4,
   "metadata": {},
   "outputs": [],
   "source": [
    "df = spark.read.option(\"escape\",\"\\\"\").option(\"delimiter\", \"|\").csv(data, header='true', inferSchema='true')"
   ]
  },
  {
   "cell_type": "code",
   "execution_count": 5,
   "metadata": {},
   "outputs": [
    {
     "data": {
      "text/plain": [
       "(1008748, 23)"
      ]
     },
     "execution_count": 5,
     "metadata": {},
     "output_type": "execute_result"
    }
   ],
   "source": [
    "rows, cols = df.count(), len(df.columns)\n",
    "rows, cols"
   ]
  },
  {
   "cell_type": "code",
   "execution_count": 6,
   "metadata": {},
   "outputs": [
    {
     "name": "stdout",
     "output_type": "stream",
     "text": [
      "root\n",
      " |-- ts: double (nullable = true)\n",
      " |-- uid: string (nullable = true)\n",
      " |-- id.orig_h: string (nullable = true)\n",
      " |-- id.orig_p: double (nullable = true)\n",
      " |-- id.resp_h: string (nullable = true)\n",
      " |-- id.resp_p: double (nullable = true)\n",
      " |-- proto: string (nullable = true)\n",
      " |-- service: string (nullable = true)\n",
      " |-- duration: string (nullable = true)\n",
      " |-- orig_bytes: string (nullable = true)\n",
      " |-- resp_bytes: string (nullable = true)\n",
      " |-- conn_state: string (nullable = true)\n",
      " |-- local_orig: string (nullable = true)\n",
      " |-- local_resp: string (nullable = true)\n",
      " |-- missed_bytes: double (nullable = true)\n",
      " |-- history: string (nullable = true)\n",
      " |-- orig_pkts: double (nullable = true)\n",
      " |-- orig_ip_bytes: double (nullable = true)\n",
      " |-- resp_pkts: double (nullable = true)\n",
      " |-- resp_ip_bytes: double (nullable = true)\n",
      " |-- tunnel_parents: string (nullable = true)\n",
      " |-- label: string (nullable = true)\n",
      " |-- detailed-label: string (nullable = true)\n",
      "\n"
     ]
    }
   ],
   "source": [
    "df.printSchema()"
   ]
  },
  {
   "cell_type": "code",
   "execution_count": 7,
   "metadata": {},
   "outputs": [
    {
     "name": "stdout",
     "output_type": "stream",
     "text": [
      "+-------------------+------------------+---------------+---------+---------------+---------+-----+-------+--------+----------+----------+----------+----------+----------+------------+-------+---------+-------------+---------+-------------+--------------+---------+--------------------+\n",
      "|                 ts|               uid|      id.orig_h|id.orig_p|      id.resp_h|id.resp_p|proto|service|duration|orig_bytes|resp_bytes|conn_state|local_orig|local_resp|missed_bytes|history|orig_pkts|orig_ip_bytes|resp_pkts|resp_ip_bytes|tunnel_parents|    label|      detailed-label|\n",
      "+-------------------+------------------+---------------+---------+---------------+---------+-----+-------+--------+----------+----------+----------+----------+----------+------------+-------+---------+-------------+---------+-------------+--------------+---------+--------------------+\n",
      "|1.525879831015811E9|CUmrqr4svHuSXJy5z7|192.168.100.103|  51524.0| 65.127.233.163|     23.0|  tcp|      -|2.999051|         0|         0|        S0|         -|         -|         0.0|      S|      3.0|        180.0|      0.0|          0.0|             -|Malicious|PartOfAHorizontal...|\n",
      "|1.525879831025055E9|CH98aB3s1kJeq6SFOc|192.168.100.103|  56305.0|  63.150.16.171|     23.0|  tcp|      -|       -|         -|         -|        S0|         -|         -|         0.0|      S|      1.0|         60.0|      0.0|          0.0|             -|Malicious|PartOfAHorizontal...|\n",
      "|1.525879831045045E9| C3GBTkINvXNjVGtN5|192.168.100.103|  41101.0|   111.40.23.49|     23.0|  tcp|      -|       -|         -|         -|        S0|         -|         -|         0.0|      S|      1.0|         60.0|      0.0|          0.0|             -|Malicious|PartOfAHorizontal...|\n",
      "| 1.52587983201624E9| CDe43c1PtgynajGI6|192.168.100.103|  60905.0|131.174.215.147|     23.0|  tcp|      -|2.998796|         0|         0|        S0|         -|         -|         0.0|      S|      3.0|        180.0|      0.0|          0.0|             -|Malicious|PartOfAHorizontal...|\n",
      "|1.525879832024985E9|CJaDcG3MZzvf1YVYI4|192.168.100.103|  44301.0|    91.42.47.63|     23.0|  tcp|      -|       -|         -|         -|        S0|         -|         -|         0.0|      S|      1.0|         60.0|      0.0|          0.0|             -|Malicious|PartOfAHorizontal...|\n",
      "+-------------------+------------------+---------------+---------+---------------+---------+-----+-------+--------+----------+----------+----------+----------+----------+------------+-------+---------+-------------+---------+-------------+--------------+---------+--------------------+\n",
      "only showing top 5 rows\n",
      "\n"
     ]
    }
   ],
   "source": [
    "df.show(5)"
   ]
  },
  {
   "cell_type": "markdown",
   "metadata": {},
   "source": [
    "## Dataset concatenation / data assesment / schema corrections [preprocessing]"
   ]
  },
  {
   "cell_type": "code",
   "execution_count": 8,
   "metadata": {},
   "outputs": [
    {
     "name": "stderr",
     "output_type": "stream",
     "text": [
      "Reading files: 100%|██████████| 11/11 [00:00<00:00, 46.27file/s]\n"
     ]
    },
    {
     "name": "stdout",
     "output_type": "stream",
     "text": [
      "+-------------------+------------------+---------------+---------+---------------+---------+-----+-------+--------+----------+----------+----------+----------+----------+------------+-------+---------+-------------+---------+-------------+--------------+---------+--------------------+\n",
      "|                 ts|               uid|      id.orig_h|id.orig_p|      id.resp_h|id.resp_p|proto|service|duration|orig_bytes|resp_bytes|conn_state|local_orig|local_resp|missed_bytes|history|orig_pkts|orig_ip_bytes|resp_pkts|resp_ip_bytes|tunnel_parents|    label|      detailed-label|\n",
      "+-------------------+------------------+---------------+---------+---------------+---------+-----+-------+--------+----------+----------+----------+----------+----------+------------+-------+---------+-------------+---------+-------------+--------------+---------+--------------------+\n",
      "|1.525879831015811E9|CUmrqr4svHuSXJy5z7|192.168.100.103|    51524| 65.127.233.163|       23|  tcp|      -|2.999051|       0.0|       0.0|        S0|         -|         -|         0.0|      S|      3.0|        180.0|      0.0|          0.0|             -|Malicious|PartOfAHorizontal...|\n",
      "|1.525879831025055E9|CH98aB3s1kJeq6SFOc|192.168.100.103|    56305|  63.150.16.171|       23|  tcp|      -|    NULL|      NULL|      NULL|        S0|         -|         -|         0.0|      S|      1.0|         60.0|      0.0|          0.0|             -|Malicious|PartOfAHorizontal...|\n",
      "|1.525879831045045E9| C3GBTkINvXNjVGtN5|192.168.100.103|    41101|   111.40.23.49|       23|  tcp|      -|    NULL|      NULL|      NULL|        S0|         -|         -|         0.0|      S|      1.0|         60.0|      0.0|          0.0|             -|Malicious|PartOfAHorizontal...|\n",
      "| 1.52587983201624E9| CDe43c1PtgynajGI6|192.168.100.103|    60905|131.174.215.147|       23|  tcp|      -|2.998796|       0.0|       0.0|        S0|         -|         -|         0.0|      S|      3.0|        180.0|      0.0|          0.0|             -|Malicious|PartOfAHorizontal...|\n",
      "|1.525879832024985E9|CJaDcG3MZzvf1YVYI4|192.168.100.103|    44301|    91.42.47.63|       23|  tcp|      -|    NULL|      NULL|      NULL|        S0|         -|         -|         0.0|      S|      1.0|         60.0|      0.0|          0.0|             -|Malicious|PartOfAHorizontal...|\n",
      "+-------------------+------------------+---------------+---------+---------------+---------+-----+-------+--------+----------+----------+----------+----------+----------+------------+-------+---------+-------------+---------+-------------+--------------+---------+--------------------+\n",
      "only showing top 5 rows\n",
      "\n",
      "root\n",
      " |-- ts: double (nullable = true)\n",
      " |-- uid: string (nullable = true)\n",
      " |-- id.orig_h: string (nullable = true)\n",
      " |-- id.orig_p: string (nullable = true)\n",
      " |-- id.resp_h: string (nullable = true)\n",
      " |-- id.resp_p: string (nullable = true)\n",
      " |-- proto: string (nullable = true)\n",
      " |-- service: string (nullable = true)\n",
      " |-- duration: double (nullable = true)\n",
      " |-- orig_bytes: double (nullable = true)\n",
      " |-- resp_bytes: double (nullable = true)\n",
      " |-- conn_state: string (nullable = true)\n",
      " |-- local_orig: string (nullable = true)\n",
      " |-- local_resp: string (nullable = true)\n",
      " |-- missed_bytes: double (nullable = true)\n",
      " |-- history: string (nullable = true)\n",
      " |-- orig_pkts: double (nullable = true)\n",
      " |-- orig_ip_bytes: double (nullable = true)\n",
      " |-- resp_pkts: double (nullable = true)\n",
      " |-- resp_ip_bytes: double (nullable = true)\n",
      " |-- tunnel_parents: string (nullable = true)\n",
      " |-- label: string (nullable = true)\n",
      " |-- detailed-label: string (nullable = true)\n",
      "\n"
     ]
    }
   ],
   "source": [
    "from pyspark.sql.types import StructType, StructField, StringType, DoubleType\n",
    "\n",
    "# Define your custom schema\n",
    "custom_schema = StructType([\n",
    "    StructField(\"ts\", DoubleType(), True),\n",
    "    StructField(\"uid\", StringType(), True),\n",
    "    StructField(\"id.orig_h\", StringType(), True),\n",
    "    StructField(\"id.orig_p\", StringType(), True),\n",
    "    StructField(\"id.resp_h\", StringType(), True),\n",
    "    StructField(\"id.resp_p\", StringType(), True),\n",
    "    StructField(\"proto\", StringType(), True),\n",
    "    StructField(\"service\", StringType(), True),\n",
    "    StructField(\"duration\", DoubleType(), True),\n",
    "    StructField(\"orig_bytes\", DoubleType(), True),\n",
    "    StructField(\"resp_bytes\", DoubleType(), True),\n",
    "    StructField(\"conn_state\", StringType(), True),\n",
    "    StructField(\"local_orig\", StringType(), True),\n",
    "    StructField(\"local_resp\", StringType(), True),\n",
    "    StructField(\"missed_bytes\", DoubleType(), True),\n",
    "    StructField(\"history\", StringType(), True),\n",
    "    StructField(\"orig_pkts\", DoubleType(), True),\n",
    "    StructField(\"orig_ip_bytes\", DoubleType(), True),\n",
    "    StructField(\"resp_pkts\", DoubleType(), True),\n",
    "    StructField(\"resp_ip_bytes\", DoubleType(), True),\n",
    "    StructField(\"tunnel_parents\", StringType(), True),\n",
    "    StructField(\"label\", StringType(), True),\n",
    "    StructField(\"detailed-label\", StringType(), True),\n",
    "])\n",
    "\n",
    "# List of file paths\n",
    "file_paths = [\n",
    "    r\"C:\\Users\\Vincenzo\\Projects\\DDAM_data\\malware\\CTU-IoT-Malware-Capture-1-1conn.log.labeled.csv\",\n",
    "    r\"C:\\Users\\Vincenzo\\Projects\\DDAM_data\\malware\\CTU-IoT-Malware-Capture-3-1conn.log.labeled.csv\",\n",
    "    r\"C:\\Users\\Vincenzo\\Projects\\DDAM_data\\malware\\CTU-IoT-Malware-Capture-9-1conn.log.labeled.csv\",\n",
    "    r\"C:\\Users\\Vincenzo\\Projects\\DDAM_data\\malware\\CTU-IoT-Malware-Capture-20-1conn.log.labeled.csv\",\n",
    "    r\"C:\\Users\\Vincenzo\\Projects\\DDAM_data\\malware\\CTU-IoT-Malware-Capture-21-1conn.log.labeled.csv\",\n",
    "    r\"C:\\Users\\Vincenzo\\Projects\\DDAM_data\\malware\\CTU-IoT-Malware-Capture-34-1conn.log.labeled.csv\",\n",
    "    r\"C:\\Users\\Vincenzo\\Projects\\DDAM_data\\malware\\CTU-IoT-Malware-Capture-35-1conn.log.labeled.csv\",\n",
    "    r\"C:\\Users\\Vincenzo\\Projects\\DDAM_data\\malware\\CTU-IoT-Malware-Capture-42-1conn.log.labeled.csv\",\n",
    "    r\"C:\\Users\\Vincenzo\\Projects\\DDAM_data\\malware\\CTU-IoT-Malware-Capture-44-1conn.log.labeled.csv\",\n",
    "    r\"C:\\Users\\Vincenzo\\Projects\\DDAM_data\\malware\\CTU-IoT-Malware-Capture-48-1conn.log.labeled.csv\",\n",
    "    r\"C:\\Users\\Vincenzo\\Projects\\DDAM_data\\malware\\CTU-IoT-Malware-Capture-60-1conn.log.labeled.csv\",\n",
    "]\n",
    "\n",
    "# Initialize an empty DataFrame with the custom schema\n",
    "df = spark.createDataFrame(spark.sparkContext.emptyRDD(), custom_schema)\n",
    "\n",
    "# Use tqdm for progress bar\n",
    "for file_path in tqdm(file_paths, desc=\"Reading files\", unit=\"file\"):\n",
    "    df_temp = spark.read.option(\"escape\", \"\\\"\").option(\"delimiter\", \"|\").csv(file_path, header=True, schema=custom_schema)\n",
    "    df = df.union(df_temp)\n",
    "\n",
    "# Show the first 5 rows and print the schema\n",
    "df.show(5)\n",
    "df.printSchema()\n"
   ]
  },
  {
   "cell_type": "code",
   "execution_count": 9,
   "metadata": {},
   "outputs": [],
   "source": [
    "#replacing dots with underscores in column names to avoid errors\n",
    "df = df.toDF(*(c.replace('.', '_') for c in df.columns))"
   ]
  },
  {
   "cell_type": "code",
   "execution_count": 10,
   "metadata": {},
   "outputs": [
    {
     "name": "stdout",
     "output_type": "stream",
     "text": [
      "Columns with '-' values: ['service', 'local_orig', 'local_resp', 'history', 'tunnel_parents', 'detailed-label']\n"
     ]
    }
   ],
   "source": [
    "#looking for the coluns that have the '-' value to later work on them\n",
    "from pyspark.sql.functions import col\n",
    "\n",
    "columns_with_dash = [col_name for col_name in df.columns if df.filter(col(col_name) == \"-\").count() > 0]\n",
    "print(\"Columns with '-' values:\", columns_with_dash)"
   ]
  },
  {
   "cell_type": "code",
   "execution_count": 11,
   "metadata": {},
   "outputs": [],
   "source": [
    "from pyspark.sql.functions import col, when\n",
    "from pyspark.sql import SparkSession\n",
    "\n",
    "def replace_dash_with_nan(df, columns):\n",
    "\n",
    "    result_df = df\n",
    "    for column in columns:\n",
    "        result_df = result_df.withColumn(column, when(col(column) == '-', None).otherwise(col(column)))\n",
    "\n",
    "    return result_df\n",
    "\n",
    "df = replace_dash_with_nan(df, columns_with_dash)"
   ]
  },
  {
   "cell_type": "code",
   "execution_count": 12,
   "metadata": {},
   "outputs": [
    {
     "name": "stdout",
     "output_type": "stream",
     "text": [
      "Columns with '-' values: []\n"
     ]
    }
   ],
   "source": [
    "columns_with_dash = [col_name for col_name in df.columns if df.filter(col(col_name) == \"-\").count() > 0]\n",
    "print(\"Columns with '-' values:\", columns_with_dash)"
   ]
  },
  {
   "cell_type": "code",
   "execution_count": 13,
   "metadata": {},
   "outputs": [
    {
     "name": "stdout",
     "output_type": "stream",
     "text": [
      "+---+---+---------+---------+---------+---------+-----+--------+--------+----------+----------+----------+----------+----------+------------+-------+---------+-------------+---------+-------------+--------------+-----+--------------+\n",
      "| ts|uid|id_orig_h|id_orig_p|id_resp_h|id_resp_p|proto| service|duration|orig_bytes|resp_bytes|conn_state|local_orig|local_resp|missed_bytes|history|orig_pkts|orig_ip_bytes|resp_pkts|resp_ip_bytes|tunnel_parents|label|detailed-label|\n",
      "+---+---+---------+---------+---------+---------+-----+--------+--------+----------+----------+----------+----------+----------+------------+-------+---------+-------------+---------+-------------+--------------+-----+--------------+\n",
      "|  0|  0|        0|        0|        0|        0|    0|24982603|15265888|  15265888|  15265888|         0|  25000600|  25000600|           0|  25116|        0|            0|        0|            0|      25000600|    0|      17951931|\n",
      "+---+---+---------+---------+---------+---------+-----+--------+--------+----------+----------+----------+----------+----------+------------+-------+---------+-------------+---------+-------------+--------------+-----+--------------+\n",
      "\n"
     ]
    }
   ],
   "source": [
    "from pyspark.sql.functions import isnan, when, count, col, isnull\n",
    "missing = df.select([count(when(isnull(c), c)).alias(c) for c in df.columns]).show()"
   ]
  },
  {
   "cell_type": "code",
   "execution_count": 14,
   "metadata": {},
   "outputs": [
    {
     "name": "stdout",
     "output_type": "stream",
     "text": [
      "+-------------------+------------------+---------------+---------+---------------+---------+-----+-------+--------+----------+----------+----------+----------+----------+------------+-------+---------+-------------+---------+-------------+--------------+---------+--------------------+-------------------+\n",
      "|                 ts|               uid|      id_orig_h|id_orig_p|      id_resp_h|id_resp_p|proto|service|duration|orig_bytes|resp_bytes|conn_state|local_orig|local_resp|missed_bytes|history|orig_pkts|orig_ip_bytes|resp_pkts|resp_ip_bytes|tunnel_parents|    label|      detailed-label|       formatted_ts|\n",
      "+-------------------+------------------+---------------+---------+---------------+---------+-----+-------+--------+----------+----------+----------+----------+----------+------------+-------+---------+-------------+---------+-------------+--------------+---------+--------------------+-------------------+\n",
      "|1.525879831015811E9|CUmrqr4svHuSXJy5z7|192.168.100.103|    51524| 65.127.233.163|       23|  tcp|   NULL|2.999051|       0.0|       0.0|        S0|      NULL|      NULL|         0.0|      S|      3.0|        180.0|      0.0|          0.0|          NULL|Malicious|PartOfAHorizontal...|2018-05-09 17:30:31|\n",
      "|1.525879831025055E9|CH98aB3s1kJeq6SFOc|192.168.100.103|    56305|  63.150.16.171|       23|  tcp|   NULL|    NULL|      NULL|      NULL|        S0|      NULL|      NULL|         0.0|      S|      1.0|         60.0|      0.0|          0.0|          NULL|Malicious|PartOfAHorizontal...|2018-05-09 17:30:31|\n",
      "|1.525879831045045E9| C3GBTkINvXNjVGtN5|192.168.100.103|    41101|   111.40.23.49|       23|  tcp|   NULL|    NULL|      NULL|      NULL|        S0|      NULL|      NULL|         0.0|      S|      1.0|         60.0|      0.0|          0.0|          NULL|Malicious|PartOfAHorizontal...|2018-05-09 17:30:31|\n",
      "| 1.52587983201624E9| CDe43c1PtgynajGI6|192.168.100.103|    60905|131.174.215.147|       23|  tcp|   NULL|2.998796|       0.0|       0.0|        S0|      NULL|      NULL|         0.0|      S|      3.0|        180.0|      0.0|          0.0|          NULL|Malicious|PartOfAHorizontal...|2018-05-09 17:30:32|\n",
      "|1.525879832024985E9|CJaDcG3MZzvf1YVYI4|192.168.100.103|    44301|    91.42.47.63|       23|  tcp|   NULL|    NULL|      NULL|      NULL|        S0|      NULL|      NULL|         0.0|      S|      1.0|         60.0|      0.0|          0.0|          NULL|Malicious|PartOfAHorizontal...|2018-05-09 17:30:32|\n",
      "+-------------------+------------------+---------------+---------+---------------+---------+-----+-------+--------+----------+----------+----------+----------+----------+------------+-------+---------+-------------+---------+-------------+--------------+---------+--------------------+-------------------+\n",
      "only showing top 5 rows\n",
      "\n"
     ]
    }
   ],
   "source": [
    "from pyspark.sql.functions import from_unixtime, col\n",
    "\n",
    "df = df.withColumn(\"formatted_ts\", from_unixtime(\"ts\").cast(\"timestamp\"))\n",
    "df.show(5)"
   ]
  },
  {
   "cell_type": "markdown",
   "metadata": {},
   "source": [
    "## Data understanding"
   ]
  },
  {
   "cell_type": "markdown",
   "metadata": {},
   "source": [
    "### dimension and content analysis"
   ]
  },
  {
   "cell_type": "code",
   "execution_count": 15,
   "metadata": {},
   "outputs": [
    {
     "name": "stdout",
     "output_type": "stream",
     "text": [
      "Dimension of the Dataframe is: (25000600, 24)\n"
     ]
    }
   ],
   "source": [
    "rows, cols = df.count(), len(df.columns)\n",
    "print(f'Dimension of the Dataframe is: {(rows,cols)}')"
   ]
  },
  {
   "cell_type": "code",
   "execution_count": 16,
   "metadata": {},
   "outputs": [
    {
     "name": "stdout",
     "output_type": "stream",
     "text": [
      "Le colonne numeriche sono 10\n",
      "['ts', 'duration', 'orig_bytes', 'resp_bytes', 'missed_bytes', 'orig_pkts', 'orig_ip_bytes', 'resp_pkts', 'resp_ip_bytes', 'formatted_ts']\n"
     ]
    }
   ],
   "source": [
    "num_cols = [item[0] for item in df.dtypes if item[1] != 'string']\n",
    "print('Le colonne numeriche sono {}'.format(len(num_cols)))\n",
    "print(num_cols)"
   ]
  },
  {
   "cell_type": "code",
   "execution_count": 17,
   "metadata": {},
   "outputs": [
    {
     "name": "stdout",
     "output_type": "stream",
     "text": [
      "Le colonne non numeriche sono 14\n",
      "['uid', 'id_orig_h', 'id_orig_p', 'id_resp_h', 'id_resp_p', 'proto', 'service', 'conn_state', 'local_orig', 'local_resp', 'history', 'tunnel_parents', 'label', 'detailed-label']\n"
     ]
    }
   ],
   "source": [
    "non_num_cols = [item[0] for item in df.dtypes if item[1] == 'string']\n",
    "print('Le colonne non numeriche sono {}'.format(len(non_num_cols)))\n",
    "print(non_num_cols)"
   ]
  },
  {
   "cell_type": "markdown",
   "metadata": {},
   "source": [
    "### Check for missing labels for each file to understandand labelling consistency"
   ]
  },
  {
   "cell_type": "code",
   "execution_count": 18,
   "metadata": {},
   "outputs": [
    {
     "name": "stderr",
     "output_type": "stream",
     "text": [
      "Processing files:   0%|          | 0/11 [00:00<?, ?file/s]"
     ]
    },
    {
     "name": "stdout",
     "output_type": "stream",
     "text": [
      "\n",
      "Missing values in file 1: \n"
     ]
    },
    {
     "name": "stderr",
     "output_type": "stream",
     "text": [
      "Processing files:   9%|▉         | 1/11 [00:01<00:17,  1.78s/file]"
     ]
    },
    {
     "name": "stdout",
     "output_type": "stream",
     "text": [
      "+-------------+\n",
      "|missing_count|\n",
      "+-------------+\n",
      "|            0|\n",
      "+-------------+\n",
      "\n",
      "\n"
     ]
    },
    {
     "name": "stderr",
     "output_type": "stream",
     "text": [
      "Processing files:  18%|█▊        | 2/11 [00:02<00:09,  1.09s/file]"
     ]
    },
    {
     "name": "stdout",
     "output_type": "stream",
     "text": [
      "Missing values in file 3: \n",
      "+-------------+\n",
      "|missing_count|\n",
      "+-------------+\n",
      "|            0|\n",
      "+-------------+\n",
      "\n",
      "\n",
      "Missing values in file 9: \n"
     ]
    },
    {
     "name": "stderr",
     "output_type": "stream",
     "text": [
      "Processing files:  27%|██▋       | 3/11 [00:11<00:38,  4.86s/file]"
     ]
    },
    {
     "name": "stdout",
     "output_type": "stream",
     "text": [
      "+-------------+\n",
      "|missing_count|\n",
      "+-------------+\n",
      "|            0|\n",
      "+-------------+\n",
      "\n",
      "\n",
      "Missing values in file 20: \n"
     ]
    },
    {
     "name": "stderr",
     "output_type": "stream",
     "text": [
      "Processing files:  36%|███▋      | 4/11 [00:11<00:21,  3.04s/file]"
     ]
    },
    {
     "name": "stdout",
     "output_type": "stream",
     "text": [
      "+-------------+\n",
      "|missing_count|\n",
      "+-------------+\n",
      "|            0|\n",
      "+-------------+\n",
      "\n",
      "\n",
      "Missing values in file 21: \n"
     ]
    },
    {
     "name": "stderr",
     "output_type": "stream",
     "text": [
      "Processing files:  45%|████▌     | 5/11 [00:12<00:12,  2.03s/file]"
     ]
    },
    {
     "name": "stdout",
     "output_type": "stream",
     "text": [
      "+-------------+\n",
      "|missing_count|\n",
      "+-------------+\n",
      "|            0|\n",
      "+-------------+\n",
      "\n",
      "\n"
     ]
    },
    {
     "name": "stderr",
     "output_type": "stream",
     "text": [
      "Processing files:  55%|█████▍    | 6/11 [00:12<00:07,  1.45s/file]"
     ]
    },
    {
     "name": "stdout",
     "output_type": "stream",
     "text": [
      "Missing values in file 34: \n",
      "+-------------+\n",
      "|missing_count|\n",
      "+-------------+\n",
      "|        21222|\n",
      "+-------------+\n",
      "\n",
      "\n",
      "Missing values in file 35: \n"
     ]
    },
    {
     "name": "stderr",
     "output_type": "stream",
     "text": [
      "Processing files:  64%|██████▎   | 7/11 [00:26<00:22,  5.58s/file]"
     ]
    },
    {
     "name": "stdout",
     "output_type": "stream",
     "text": [
      "+-------------+\n",
      "|missing_count|\n",
      "+-------------+\n",
      "|      2185386|\n",
      "+-------------+\n",
      "\n",
      "\n"
     ]
    },
    {
     "name": "stderr",
     "output_type": "stream",
     "text": [
      "Processing files:  73%|███████▎  | 8/11 [00:26<00:11,  3.87s/file]"
     ]
    },
    {
     "name": "stdout",
     "output_type": "stream",
     "text": [
      "Missing values in file 42: \n",
      "+-------------+\n",
      "|missing_count|\n",
      "+-------------+\n",
      "|            3|\n",
      "+-------------+\n",
      "\n",
      "\n"
     ]
    },
    {
     "name": "stderr",
     "output_type": "stream",
     "text": [
      "Processing files:  82%|████████▏ | 9/11 [00:27<00:05,  2.72s/file]"
     ]
    },
    {
     "name": "stdout",
     "output_type": "stream",
     "text": [
      "Missing values in file 44: \n",
      "+-------------+\n",
      "|missing_count|\n",
      "+-------------+\n",
      "|           15|\n",
      "+-------------+\n",
      "\n",
      "\n",
      "Missing values in file 48: \n"
     ]
    },
    {
     "name": "stderr",
     "output_type": "stream",
     "text": [
      "Processing files:  91%|█████████ | 10/11 [00:32<00:03,  3.42s/file]"
     ]
    },
    {
     "name": "stdout",
     "output_type": "stream",
     "text": [
      "+-------------+\n",
      "|missing_count|\n",
      "+-------------+\n",
      "|      3388871|\n",
      "+-------------+\n",
      "\n",
      "\n",
      "Missing values in file 60: \n"
     ]
    },
    {
     "name": "stderr",
     "output_type": "stream",
     "text": [
      "Processing files: 100%|██████████| 11/11 [00:36<00:00,  3.35s/file]"
     ]
    },
    {
     "name": "stdout",
     "output_type": "stream",
     "text": [
      "+-------------+\n",
      "|missing_count|\n",
      "+-------------+\n",
      "|      3578457|\n",
      "+-------------+\n",
      "\n"
     ]
    },
    {
     "name": "stderr",
     "output_type": "stream",
     "text": [
      "\n"
     ]
    }
   ],
   "source": [
    "from pyspark.sql.functions import isnan, when, count, col, isnull\n",
    "\n",
    "\n",
    "def check_nan(spark, column_to_check=\"\", label_only=False):\n",
    "    # List of file numbers\n",
    "    file_numbers = [1, 3, 9, 20, 21, 34, 35, 42, 44, 48, 60]\n",
    "    \n",
    "    for number in tqdm(file_numbers, desc=\"Processing files\", unit=\"file\"):\n",
    "    \n",
    "        file_path = r\"C:\\Users\\Vincenzo\\Projects\\DDAM_data\\malware\\CTU-IoT-Malware-Capture-{}-1conn.log.labeled.csv\".format(number)\n",
    "        df = spark.read.option(\"escape\", \"\\\"\").option(\"delimiter\", \"|\").csv(file_path, header='true', inferSchema='true')\n",
    "        df = df.toDF(*(c.replace('.', '_') for c in df.columns))\n",
    "\n",
    "        print(\"\", flush=True)\n",
    "        # Check for missing values\n",
    "        if label_only:\n",
    "            missing = df.select([count(when(isnull(\"detailed-label\"), \"detailed-label\")).alias(\"missing_count\")])\n",
    "            print(\"Missing values in file {}: \".format(number))\n",
    "            missing.select(\"missing_count\").show()\n",
    "\n",
    "        elif column_to_check:\n",
    "            missing = df.select([count(when(isnull(column_to_check), column_to_check)).alias(\"missing_count\")])\n",
    "            print(\"Missing values in file {}: \".format(number))\n",
    "            missing.select(\"missing_count\").show()\n",
    "\n",
    "        elif column_to_check == \"all\":\n",
    "            missing = df.select([count(when(isnull(c), c)).alias(c) for c in df.columns])\n",
    "            print(\"Missing values in file {}: \".format(number))\n",
    "            missing.show()\n",
    "\n",
    "        else:\n",
    "            print(\"Please enter a valid column name or enter True to check the label column only\")\n",
    "\n",
    "# Check for missing values in the label column only\n",
    "check_nan(spark, label_only=True)\n"
   ]
  },
  {
   "cell_type": "markdown",
   "metadata": {},
   "source": [
    "### Check for distinct values and raw statistics"
   ]
  },
  {
   "cell_type": "code",
   "execution_count": 19,
   "metadata": {},
   "outputs": [
    {
     "name": "stderr",
     "output_type": "stream",
     "text": [
      "Counting Distinct Values:   0%|          | 0/14 [00:00<?, ?column/s]"
     ]
    },
    {
     "name": "stderr",
     "output_type": "stream",
     "text": [
      "Counting Distinct Values: 100%|██████████| 14/14 [06:35<00:00, 28.27s/column]"
     ]
    },
    {
     "name": "stdout",
     "output_type": "stream",
     "text": [
      "Column 'uid' has 25000600 distinct values.\n",
      "Column 'id_orig_h' has 21442 distinct values.\n",
      "Column 'id_orig_p' has 102304 distinct values.\n",
      "Column 'id_resp_h' has 11654577 distinct values.\n",
      "Column 'id_resp_p' has 75872 distinct values.\n",
      "Column 'proto' has 3 distinct values.\n",
      "Column 'service' has 6 distinct values.\n",
      "Column 'conn_state' has 13 distinct values.\n",
      "Column 'local_orig' has 0 distinct values.\n",
      "Column 'local_resp' has 0 distinct values.\n",
      "Column 'history' has 263 distinct values.\n",
      "Column 'tunnel_parents' has 0 distinct values.\n",
      "Column 'label' has 7 distinct values.\n",
      "Column 'detailed-label' has 6 distinct values.\n"
     ]
    },
    {
     "name": "stderr",
     "output_type": "stream",
     "text": [
      "\n"
     ]
    }
   ],
   "source": [
    "from pyspark.sql.functions import col, countDistinct\n",
    "\n",
    "non_num_df = df.select(non_num_cols)\n",
    "\n",
    "def count_distinct_values(df):\n",
    "    result = {}\n",
    "    columns = df.columns\n",
    "\n",
    "    # Use tqdm to create a progress bar\n",
    "    for column in tqdm(columns, desc=\"Counting Distinct Values\", unit=\"column\"):\n",
    "        distinct_count = df.select(column).agg(countDistinct(column)).collect()[0][0]\n",
    "        result[column] = distinct_count\n",
    "\n",
    "    return result\n",
    "\n",
    "distinct_counts = count_distinct_values(non_num_df)\n",
    "\n",
    "for column, count in distinct_counts.items():\n",
    "    print(f\"Column '{column}' has {count} distinct values.\")"
   ]
  },
  {
   "cell_type": "code",
   "execution_count": 20,
   "metadata": {},
   "outputs": [
    {
     "name": "stdout",
     "output_type": "stream",
     "text": [
      "+-------+--------------------+------------------+------------+------------------+-----------+------------------+--------+-------+-----------------+--------------------+--------------------+----------+----------+----------+-----------------+--------+------------------+-----------------+--------------------+------------------+--------------+--------------------+--------------+\n",
      "|summary|                  ts|               uid|   id_orig_h|         id_orig_p|  id_resp_h|         id_resp_p|   proto|service|         duration|          orig_bytes|          resp_bytes|conn_state|local_orig|local_resp|     missed_bytes| history|         orig_pkts|    orig_ip_bytes|           resp_pkts|     resp_ip_bytes|tunnel_parents|               label|detailed-label|\n",
      "+-------+--------------------+------------------+------------+------------------+-----------+------------------+--------+-------+-----------------+--------------------+--------------------+----------+----------+----------+-----------------+--------+------------------+-----------------+--------------------+------------------+--------------+--------------------+--------------+\n",
      "|  count|            25000600|          25000600|    25000600|          25000600|   25000600|          25000600|25000600|  17997|          9734712|             9734712|             9734712|  25000600|         0|         0|         25000600|24975484|          25000600|         25000600|            25000600|          25000600|             0|            25000600|       7048669|\n",
      "|   mean| 1.545444771111329E9|              NULL|        NULL| 39912.79891898594|       NULL| 9714.519342175789|    NULL|   NULL|3.382299030705386|2.1998371203670874E8|  3457.1976633720647|      NULL|      NULL|      NULL|76.36013899666408|    NULL|13.508834027983328|590.2281178451717|0.014572610257353824|1.7482263225682584|          NULL|                NULL|          NULL|\n",
      "| stddev|1.2003567012113284E7|              NULL|        NULL|16090.793857809633|       NULL|22178.223936131817|    NULL|   NULL|60.01880952312349| 2.731340253047561E9|1.0185058751506891E7|      NULL|      NULL|      NULL|381759.3150179955|    NULL|17515.340014021454|687953.4074515603|  4.1902265695645475|  376.273102655407|          NULL|                NULL|          NULL|\n",
      "|    min| 1.525879831015073E9|C000004PRnYaVbKEL5| 1.1.153.232|                 0|  1.0.0.109|                 0|    icmp|   dhcp|           1.0E-6|                 0.0|                 0.0|       OTH|      NULL|      NULL|              0.0|      Aa|               0.0|              0.0|                 0.0|               0.0|          NULL|              Benign|        Attack|\n",
      "|    max| 1.569026390773122E9|Czzzyi34M6fJkXFAz6|99.95.31.158|            9999.0|99.99.99.99|              9999|     udp|    ssl|     93280.030966|     6.6205578295E10|     3.1720511878E10|       SHR|      NULL|      NULL|     1.90881948E9|      ^r|       6.6027354E7|    1.914793266E9|              9613.0|          520116.0|          NULL|Malicious   PartO...|         Torii|\n",
      "+-------+--------------------+------------------+------------+------------------+-----------+------------------+--------+-------+-----------------+--------------------+--------------------+----------+----------+----------+-----------------+--------+------------------+-----------------+--------------------+------------------+--------------+--------------------+--------------+\n",
      "\n"
     ]
    }
   ],
   "source": [
    "# Use the describe function to get statistical summary\n",
    "\n",
    "summary = df.describe()\n",
    "summary.show()\n"
   ]
  },
  {
   "cell_type": "code",
   "execution_count": 21,
   "metadata": {},
   "outputs": [
    {
     "ename": "AnalysisException",
     "evalue": "[UNRESOLVED_COLUMN.WITH_SUGGESTION] A column or function parameter with name `formatted_ts` cannot be resolved. Did you mean one of the following? [`orig_pkts`, `duration`, `label`, `missed_bytes`, `orig_bytes`].;\n'Project [summary#22825, ts#22459, duration#22467, orig_bytes#22468, resp_bytes#22469, missed_bytes#22473, orig_pkts#22475, orig_ip_bytes#22476, resp_pkts#22477, resp_ip_bytes#22478, 'formatted_ts]\n+- Project [summary#22825, element_at(ts#22348, summary#22825, None, false) AS ts#22459, element_at(uid#22353, summary#22825, None, false) AS uid#22460, element_at(id_orig_h#22358, summary#22825, None, false) AS id_orig_h#22461, element_at(id_orig_p#22363, summary#22825, None, false) AS id_orig_p#22462, element_at(id_resp_h#22368, summary#22825, None, false) AS id_resp_h#22463, element_at(id_resp_p#22373, summary#22825, None, false) AS id_resp_p#22464, element_at(proto#22378, summary#22825, None, false) AS proto#22465, element_at(service#22383, summary#22825, None, false) AS service#22466, element_at(duration#22388, summary#22825, None, false) AS duration#22467, element_at(orig_bytes#22393, summary#22825, None, false) AS orig_bytes#22468, element_at(resp_bytes#22398, summary#22825, None, false) AS resp_bytes#22469, element_at(conn_state#22403, summary#22825, None, false) AS conn_state#22470, element_at(local_orig#22408, summary#22825, None, false) AS local_orig#22471, element_at(local_resp#22413, summary#22825, None, false) AS local_resp#22472, element_at(missed_bytes#22418, summary#22825, None, false) AS missed_bytes#22473, element_at(history#22423, summary#22825, None, false) AS history#22474, element_at(orig_pkts#22428, summary#22825, None, false) AS orig_pkts#22475, element_at(orig_ip_bytes#22433, summary#22825, None, false) AS orig_ip_bytes#22476, element_at(resp_pkts#22438, summary#22825, None, false) AS resp_pkts#22477, element_at(resp_ip_bytes#22443, summary#22825, None, false) AS resp_ip_bytes#22478, element_at(tunnel_parents#22448, summary#22825, None, false) AS tunnel_parents#22479, element_at(label#22453, summary#22825, None, false) AS label#22480, element_at(detailed-label#22458, summary#22825, None, false) AS detailed-label#22481]\n   +- Project [ts#22348, uid#22353, id_orig_h#22358, id_orig_p#22363, id_resp_h#22368, id_resp_p#22373, proto#22378, service#22383, duration#22388, orig_bytes#22393, resp_bytes#22398, conn_state#22403, local_orig#22408, local_resp#22413, missed_bytes#22418, history#22423, orig_pkts#22428, orig_ip_bytes#22433, resp_pkts#22438, resp_ip_bytes#22443, tunnel_parents#22448, label#22453, detailed-label#22458, summary#22825]\n      +- Generate explode([count,mean,stddev,min,max]), false, [summary#22825]\n         +- Aggregate [map(cast(count as string), cast(count(ts#1612) as string), cast(mean as string), cast(avg(ts#1612) as string), cast(stddev as string), cast(stddev(ts#1612) as string), cast(min as string), cast(min(ts#1612) as string), cast(max as string), cast(max(ts#1612) as string)) AS ts#22348, map(cast(count as string), cast(count(uid#1613) as string), cast(mean as string), cast(avg(try_cast(uid#1613 as double)) as string), cast(stddev as string), cast(stddev(try_cast(uid#1613 as double)) as string), cast(min as string), cast(min(uid#1613) as string), cast(max as string), cast(max(uid#1613) as string)) AS uid#22353, map(cast(count as string), cast(count(id_orig_h#1614) as string), cast(mean as string), cast(avg(try_cast(id_orig_h#1614 as double)) as string), cast(stddev as string), cast(stddev(try_cast(id_orig_h#1614 as double)) as string), cast(min as string), cast(min(id_orig_h#1614) as string), cast(max as string), cast(max(id_orig_h#1614) as string)) AS id_orig_h#22358, map(cast(count as string), cast(count(id_orig_p#1615) as string), cast(mean as string), cast(avg(try_cast(id_orig_p#1615 as double)) as string), cast(stddev as string), cast(stddev(try_cast(id_orig_p#1615 as double)) as string), cast(min as string), cast(min(id_orig_p#1615) as string), cast(max as string), cast(max(id_orig_p#1615) as string)) AS id_orig_p#22363, map(cast(count as string), cast(count(id_resp_h#1616) as string), cast(mean as string), cast(avg(try_cast(id_resp_h#1616 as double)) as string), cast(stddev as string), cast(stddev(try_cast(id_resp_h#1616 as double)) as string), cast(min as string), cast(min(id_resp_h#1616) as string), cast(max as string), cast(max(id_resp_h#1616) as string)) AS id_resp_h#22368, map(cast(count as string), cast(count(id_resp_p#1617) as string), cast(mean as string), cast(avg(try_cast(id_resp_p#1617 as double)) as string), cast(stddev as string), cast(stddev(try_cast(id_resp_p#1617 as double)) as string), cast(min as string), cast(min(id_resp_p#1617) as string), cast(max as string), cast(max(id_resp_p#1617) as string)) AS id_resp_p#22373, map(cast(count as string), cast(count(proto#1618) as string), cast(mean as string), cast(avg(try_cast(proto#1618 as double)) as string), cast(stddev as string), cast(stddev(try_cast(proto#1618 as double)) as string), cast(min as string), cast(min(proto#1618) as string), cast(max as string), cast(max(proto#1618) as string)) AS proto#22378, map(cast(count as string), cast(count(service#8275) as string), cast(mean as string), cast(avg(try_cast(service#8275 as double)) as string), cast(stddev as string), cast(stddev(try_cast(service#8275 as double)) as string), cast(min as string), cast(min(service#8275) as string), cast(max as string), cast(max(service#8275) as string)) AS service#22383, map(cast(count as string), cast(count(duration#1620) as string), cast(mean as string), cast(avg(duration#1620) as string), cast(stddev as string), cast(stddev(duration#1620) as string), cast(min as string), cast(min(duration#1620) as string), cast(max as string), cast(max(duration#1620) as string)) AS duration#22388, map(cast(count as string), cast(count(orig_bytes#1621) as string), cast(mean as string), cast(avg(orig_bytes#1621) as string), cast(stddev as string), cast(stddev(orig_bytes#1621) as string), cast(min as string), cast(min(orig_bytes#1621) as string), cast(max as string), cast(max(orig_bytes#1621) as string)) AS orig_bytes#22393, map(cast(count as string), cast(count(resp_bytes#1622) as string), cast(mean as string), cast(avg(resp_bytes#1622) as string), cast(stddev as string), cast(stddev(resp_bytes#1622) as string), cast(min as string), cast(min(resp_bytes#1622) as string), cast(max as string), cast(max(resp_bytes#1622) as string)) AS resp_bytes#22398, map(cast(count as string), cast(count(conn_state#1623) as string), cast(mean as string), cast(avg(try_cast(conn_state#1623 as double)) as string), cast(stddev as string), cast(stddev(try_cast(conn_state#1623 as double)) as string), cast(min as string), cast(min(conn_state#1623) as string), cast(max as string), cast(max(conn_state#1623) as string)) AS conn_state#22403, map(cast(count as string), cast(count(local_orig#8299) as string), cast(mean as string), cast(avg(try_cast(local_orig#8299 as double)) as string), cast(stddev as string), cast(stddev(try_cast(local_orig#8299 as double)) as string), cast(min as string), cast(min(local_orig#8299) as string), cast(max as string), cast(max(local_orig#8299) as string)) AS local_orig#22408, map(cast(count as string), cast(count(local_resp#8323) as string), cast(mean as string), cast(avg(try_cast(local_resp#8323 as double)) as string), cast(stddev as string), cast(stddev(try_cast(local_resp#8323 as double)) as string), cast(min as string), cast(min(local_resp#8323) as string), cast(max as string), cast(max(local_resp#8323) as string)) AS local_resp#22413, map(cast(count as string), cast(count(missed_bytes#1626) as string), cast(mean as string), cast(avg(missed_bytes#1626) as string), cast(stddev as string), cast(stddev(missed_bytes#1626) as string), cast(min as string), cast(min(missed_bytes#1626) as string), cast(max as string), cast(max(missed_bytes#1626) as string)) AS missed_bytes#22418, map(cast(count as string), cast(count(history#8347) as string), cast(mean as string), cast(avg(try_cast(history#8347 as double)) as string), cast(stddev as string), cast(stddev(try_cast(history#8347 as double)) as string), cast(min as string), cast(min(history#8347) as string), cast(max as string), cast(max(history#8347) as string)) AS history#22423, map(cast(count as string), cast(count(orig_pkts#1628) as string), cast(mean as string), cast(avg(orig_pkts#1628) as string), cast(stddev as string), cast(stddev(orig_pkts#1628) as string), cast(min as string), cast(min(orig_pkts#1628) as string), cast(max as string), cast(max(orig_pkts#1628) as string)) AS orig_pkts#22428, map(cast(count as string), cast(count(orig_ip_bytes#1629) as string), cast(mean as string), cast(avg(orig_ip_bytes#1629) as string), cast(stddev as string), cast(stddev(orig_ip_bytes#1629) as string), cast(min as string), cast(min(orig_ip_bytes#1629) as string), cast(max as string), cast(max(orig_ip_bytes#1629) as string)) AS orig_ip_bytes#22433, map(cast(count as string), cast(count(resp_pkts#1630) as string), cast(mean as string), cast(avg(resp_pkts#1630) as string), cast(stddev as string), cast(stddev(resp_pkts#1630) as string), cast(min as string), cast(min(resp_pkts#1630) as string), cast(max as string), cast(max(resp_pkts#1630) as string)) AS resp_pkts#22438, map(cast(count as string), cast(count(resp_ip_bytes#1631) as string), cast(mean as string), cast(avg(resp_ip_bytes#1631) as string), cast(stddev as string), cast(stddev(resp_ip_bytes#1631) as string), cast(min as string), cast(min(resp_ip_bytes#1631) as string), cast(max as string), cast(max(resp_ip_bytes#1631) as string)) AS resp_ip_bytes#22443, map(cast(count as string), cast(count(tunnel_parents#8371) as string), cast(mean as string), cast(avg(try_cast(tunnel_parents#8371 as double)) as string), cast(stddev as string), cast(stddev(try_cast(tunnel_parents#8371 as double)) as string), cast(min as string), cast(min(tunnel_parents#8371) as string), cast(max as string), cast(max(tunnel_parents#8371) as string)) AS tunnel_parents#22448, map(cast(count as string), cast(count(label#1633) as string), cast(mean as string), cast(avg(try_cast(label#1633 as double)) as string), cast(stddev as string), cast(stddev(try_cast(label#1633 as double)) as string), cast(min as string), cast(min(label#1633) as string), cast(max as string), cast(max(label#1633) as string)) AS label#22453, map(cast(count as string), cast(count(detailed-label#8395) as string), cast(mean as string), cast(avg(try_cast(detailed-label#8395 as double)) as string), cast(stddev as string), cast(stddev(try_cast(detailed-label#8395 as double)) as string), cast(min as string), cast(min(detailed-label#8395) as string), cast(max as string), cast(max(detailed-label#8395) as string)) AS detailed-label#22458]\n            +- Project [ts#1612, uid#1613, id_orig_h#1614, id_orig_p#1615, id_resp_h#1616, id_resp_p#1617, proto#1618, service#8275, duration#1620, orig_bytes#1621, resp_bytes#1622, conn_state#1623, local_orig#8299, local_resp#8323, missed_bytes#1626, history#8347, orig_pkts#1628, orig_ip_bytes#1629, resp_pkts#1630, resp_ip_bytes#1631, tunnel_parents#8371, label#1633, detailed-label#8395, cast(from_unixtime(cast(ts#1612 as bigint), yyyy-MM-dd HH:mm:ss, Some(Europe/Berlin)) as timestamp) AS formatted_ts#15862]\n               +- Project [ts#1612, uid#1613, id_orig_h#1614, id_orig_p#1615, id_resp_h#1616, id_resp_p#1617, proto#1618, service#8275, duration#1620, orig_bytes#1621, resp_bytes#1622, conn_state#1623, local_orig#8299, local_resp#8323, missed_bytes#1626, history#8347, orig_pkts#1628, orig_ip_bytes#1629, resp_pkts#1630, resp_ip_bytes#1631, tunnel_parents#8371, label#1633, CASE WHEN (detailed-label#1634 = -) THEN cast(null as string) ELSE detailed-label#1634 END AS detailed-label#8395]\n                  +- Project [ts#1612, uid#1613, id_orig_h#1614, id_orig_p#1615, id_resp_h#1616, id_resp_p#1617, proto#1618, service#8275, duration#1620, orig_bytes#1621, resp_bytes#1622, conn_state#1623, local_orig#8299, local_resp#8323, missed_bytes#1626, history#8347, orig_pkts#1628, orig_ip_bytes#1629, resp_pkts#1630, resp_ip_bytes#1631, CASE WHEN (tunnel_parents#1632 = -) THEN cast(null as string) ELSE tunnel_parents#1632 END AS tunnel_parents#8371, label#1633, detailed-label#1634]\n                     +- Project [ts#1612, uid#1613, id_orig_h#1614, id_orig_p#1615, id_resp_h#1616, id_resp_p#1617, proto#1618, service#8275, duration#1620, orig_bytes#1621, resp_bytes#1622, conn_state#1623, local_orig#8299, local_resp#8323, missed_bytes#1626, CASE WHEN (history#1627 = -) THEN cast(null as string) ELSE history#1627 END AS history#8347, orig_pkts#1628, orig_ip_bytes#1629, resp_pkts#1630, resp_ip_bytes#1631, tunnel_parents#1632, label#1633, detailed-label#1634]\n                        +- Project [ts#1612, uid#1613, id_orig_h#1614, id_orig_p#1615, id_resp_h#1616, id_resp_p#1617, proto#1618, service#8275, duration#1620, orig_bytes#1621, resp_bytes#1622, conn_state#1623, local_orig#8299, CASE WHEN (local_resp#1625 = -) THEN cast(null as string) ELSE local_resp#1625 END AS local_resp#8323, missed_bytes#1626, history#1627, orig_pkts#1628, orig_ip_bytes#1629, resp_pkts#1630, resp_ip_bytes#1631, tunnel_parents#1632, label#1633, detailed-label#1634]\n                           +- Project [ts#1612, uid#1613, id_orig_h#1614, id_orig_p#1615, id_resp_h#1616, id_resp_p#1617, proto#1618, service#8275, duration#1620, orig_bytes#1621, resp_bytes#1622, conn_state#1623, CASE WHEN (local_orig#1624 = -) THEN cast(null as string) ELSE local_orig#1624 END AS local_orig#8299, local_resp#1625, missed_bytes#1626, history#1627, orig_pkts#1628, orig_ip_bytes#1629, resp_pkts#1630, resp_ip_bytes#1631, tunnel_parents#1632, label#1633, detailed-label#1634]\n                              +- Project [ts#1612, uid#1613, id_orig_h#1614, id_orig_p#1615, id_resp_h#1616, id_resp_p#1617, proto#1618, CASE WHEN (service#1619 = -) THEN cast(null as string) ELSE service#1619 END AS service#8275, duration#1620, orig_bytes#1621, resp_bytes#1622, conn_state#1623, local_orig#1624, local_resp#1625, missed_bytes#1626, history#1627, orig_pkts#1628, orig_ip_bytes#1629, resp_pkts#1630, resp_ip_bytes#1631, tunnel_parents#1632, label#1633, detailed-label#1634]\n                                 +- Project [ts#208 AS ts#1612, uid#209 AS uid#1613, id.orig_h#210 AS id_orig_h#1614, id.orig_p#211 AS id_orig_p#1615, id.resp_h#212 AS id_resp_h#1616, id.resp_p#213 AS id_resp_p#1617, proto#214 AS proto#1618, service#215 AS service#1619, duration#216 AS duration#1620, orig_bytes#217 AS orig_bytes#1621, resp_bytes#218 AS resp_bytes#1622, conn_state#219 AS conn_state#1623, local_orig#220 AS local_orig#1624, local_resp#221 AS local_resp#1625, missed_bytes#222 AS missed_bytes#1626, history#223 AS history#1627, orig_pkts#224 AS orig_pkts#1628, orig_ip_bytes#225 AS orig_ip_bytes#1629, resp_pkts#226 AS resp_pkts#1630, resp_ip_bytes#227 AS resp_ip_bytes#1631, tunnel_parents#228 AS tunnel_parents#1632, label#229 AS label#1633, detailed-label#230 AS detailed-label#1634]\n                                    +- Union false, false\n                                       :- LogicalRDD [ts#208, uid#209, id.orig_h#210, id.orig_p#211, id.resp_h#212, id.resp_p#213, proto#214, service#215, duration#216, orig_bytes#217, resp_bytes#218, conn_state#219, local_orig#220, local_resp#221, missed_bytes#222, history#223, orig_pkts#224, orig_ip_bytes#225, resp_pkts#226, resp_ip_bytes#227, tunnel_parents#228, label#229, detailed-label#230], false\n                                       :- Relation [ts#254,uid#255,id.orig_h#256,id.orig_p#257,id.resp_h#258,id.resp_p#259,proto#260,service#261,duration#262,orig_bytes#263,resp_bytes#264,conn_state#265,local_orig#266,local_resp#267,missed_bytes#268,history#269,orig_pkts#270,orig_ip_bytes#271,resp_pkts#272,resp_ip_bytes#273,tunnel_parents#274,label#275,detailed-label#276] csv\n                                       :- Relation [ts#323,uid#324,id.orig_h#325,id.orig_p#326,id.resp_h#327,id.resp_p#328,proto#329,service#330,duration#331,orig_bytes#332,resp_bytes#333,conn_state#334,local_orig#335,local_resp#336,missed_bytes#337,history#338,orig_pkts#339,orig_ip_bytes#340,resp_pkts#341,resp_ip_bytes#342,tunnel_parents#343,label#344,detailed-label#345] csv\n                                       :- Relation [ts#392,uid#393,id.orig_h#394,id.orig_p#395,id.resp_h#396,id.resp_p#397,proto#398,service#399,duration#400,orig_bytes#401,resp_bytes#402,conn_state#403,local_orig#404,local_resp#405,missed_bytes#406,history#407,orig_pkts#408,orig_ip_bytes#409,resp_pkts#410,resp_ip_bytes#411,tunnel_parents#412,label#413,detailed-label#414] csv\n                                       :- Relation [ts#461,uid#462,id.orig_h#463,id.orig_p#464,id.resp_h#465,id.resp_p#466,proto#467,service#468,duration#469,orig_bytes#470,resp_bytes#471,conn_state#472,local_orig#473,local_resp#474,missed_bytes#475,history#476,orig_pkts#477,orig_ip_bytes#478,resp_pkts#479,resp_ip_bytes#480,tunnel_parents#481,label#482,detailed-label#483] csv\n                                       :- Relation [ts#530,uid#531,id.orig_h#532,id.orig_p#533,id.resp_h#534,id.resp_p#535,proto#536,service#537,duration#538,orig_bytes#539,resp_bytes#540,conn_state#541,local_orig#542,local_resp#543,missed_bytes#544,history#545,orig_pkts#546,orig_ip_bytes#547,resp_pkts#548,resp_ip_bytes#549,tunnel_parents#550,label#551,detailed-label#552] csv\n                                       :- Relation [ts#599,uid#600,id.orig_h#601,id.orig_p#602,id.resp_h#603,id.resp_p#604,proto#605,service#606,duration#607,orig_bytes#608,resp_bytes#609,conn_state#610,local_orig#611,local_resp#612,missed_bytes#613,history#614,orig_pkts#615,orig_ip_bytes#616,resp_pkts#617,resp_ip_bytes#618,tunnel_parents#619,label#620,detailed-label#621] csv\n                                       :- Relation [ts#668,uid#669,id.orig_h#670,id.orig_p#671,id.resp_h#672,id.resp_p#673,proto#674,service#675,duration#676,orig_bytes#677,resp_bytes#678,conn_state#679,local_orig#680,local_resp#681,missed_bytes#682,history#683,orig_pkts#684,orig_ip_bytes#685,resp_pkts#686,resp_ip_bytes#687,tunnel_parents#688,label#689,detailed-label#690] csv\n                                       :- Relation [ts#737,uid#738,id.orig_h#739,id.orig_p#740,id.resp_h#741,id.resp_p#742,proto#743,service#744,duration#745,orig_bytes#746,resp_bytes#747,conn_state#748,local_orig#749,local_resp#750,missed_bytes#751,history#752,orig_pkts#753,orig_ip_bytes#754,resp_pkts#755,resp_ip_bytes#756,tunnel_parents#757,label#758,detailed-label#759] csv\n                                       :- Relation [ts#806,uid#807,id.orig_h#808,id.orig_p#809,id.resp_h#810,id.resp_p#811,proto#812,service#813,duration#814,orig_bytes#815,resp_bytes#816,conn_state#817,local_orig#818,local_resp#819,missed_bytes#820,history#821,orig_pkts#822,orig_ip_bytes#823,resp_pkts#824,resp_ip_bytes#825,tunnel_parents#826,label#827,detailed-label#828] csv\n                                       :- Relation [ts#875,uid#876,id.orig_h#877,id.orig_p#878,id.resp_h#879,id.resp_p#880,proto#881,service#882,duration#883,orig_bytes#884,resp_bytes#885,conn_state#886,local_orig#887,local_resp#888,missed_bytes#889,history#890,orig_pkts#891,orig_ip_bytes#892,resp_pkts#893,resp_ip_bytes#894,tunnel_parents#895,label#896,detailed-label#897] csv\n                                       +- Relation [ts#944,uid#945,id.orig_h#946,id.orig_p#947,id.resp_h#948,id.resp_p#949,proto#950,service#951,duration#952,orig_bytes#953,resp_bytes#954,conn_state#955,local_orig#956,local_resp#957,missed_bytes#958,history#959,orig_pkts#960,orig_ip_bytes#961,resp_pkts#962,resp_ip_bytes#963,tunnel_parents#964,label#965,detailed-label#966] csv\n",
     "output_type": "error",
     "traceback": [
      "\u001b[1;31m---------------------------------------------------------------------------\u001b[0m",
      "\u001b[1;31mAnalysisException\u001b[0m                         Traceback (most recent call last)",
      "Cell \u001b[1;32mIn[21], line 2\u001b[0m\n\u001b[0;32m      1\u001b[0m \u001b[38;5;66;03m# num_summary = summary.select(*num_cols)\u001b[39;00m\n\u001b[1;32m----> 2\u001b[0m num_summary \u001b[38;5;241m=\u001b[39m \u001b[43msummary\u001b[49m\u001b[38;5;241;43m.\u001b[39;49m\u001b[43mselect\u001b[49m\u001b[43m(\u001b[49m\u001b[38;5;241;43m*\u001b[39;49m\u001b[43m(\u001b[49m\u001b[43m[\u001b[49m\u001b[38;5;124;43m\"\u001b[39;49m\u001b[38;5;124;43msummary\u001b[39;49m\u001b[38;5;124;43m\"\u001b[39;49m\u001b[43m]\u001b[49m\u001b[43m \u001b[49m\u001b[38;5;241;43m+\u001b[39;49m\u001b[43m \u001b[49m\u001b[43mnum_cols\u001b[49m\u001b[43m)\u001b[49m\u001b[43m)\u001b[49m\n\u001b[0;32m      3\u001b[0m \u001b[38;5;66;03m# non_num_summary = summary.select(*non_num_cols)\u001b[39;00m\n\u001b[0;32m      4\u001b[0m non_num_summary \u001b[38;5;241m=\u001b[39m summary\u001b[38;5;241m.\u001b[39mselect(\u001b[38;5;241m*\u001b[39m([\u001b[38;5;124m\"\u001b[39m\u001b[38;5;124msummary\u001b[39m\u001b[38;5;124m\"\u001b[39m] \u001b[38;5;241m+\u001b[39m non_num_cols))\n",
      "File \u001b[1;32mc:\\Users\\Vincenzo\\Projects\\DDAM_Project_23-24\\venv\\Lib\\site-packages\\pyspark\\sql\\dataframe.py:3223\u001b[0m, in \u001b[0;36mDataFrame.select\u001b[1;34m(self, *cols)\u001b[0m\n\u001b[0;32m   3178\u001b[0m \u001b[38;5;28;01mdef\u001b[39;00m \u001b[38;5;21mselect\u001b[39m(\u001b[38;5;28mself\u001b[39m, \u001b[38;5;241m*\u001b[39mcols: \u001b[38;5;124m\"\u001b[39m\u001b[38;5;124mColumnOrName\u001b[39m\u001b[38;5;124m\"\u001b[39m) \u001b[38;5;241m-\u001b[39m\u001b[38;5;241m>\u001b[39m \u001b[38;5;124m\"\u001b[39m\u001b[38;5;124mDataFrame\u001b[39m\u001b[38;5;124m\"\u001b[39m:  \u001b[38;5;66;03m# type: ignore[misc]\u001b[39;00m\n\u001b[0;32m   3179\u001b[0m \u001b[38;5;250m    \u001b[39m\u001b[38;5;124;03m\"\"\"Projects a set of expressions and returns a new :class:`DataFrame`.\u001b[39;00m\n\u001b[0;32m   3180\u001b[0m \n\u001b[0;32m   3181\u001b[0m \u001b[38;5;124;03m    .. versionadded:: 1.3.0\u001b[39;00m\n\u001b[1;32m   (...)\u001b[0m\n\u001b[0;32m   3221\u001b[0m \u001b[38;5;124;03m    +-----+---+\u001b[39;00m\n\u001b[0;32m   3222\u001b[0m \u001b[38;5;124;03m    \"\"\"\u001b[39;00m\n\u001b[1;32m-> 3223\u001b[0m     jdf \u001b[38;5;241m=\u001b[39m \u001b[38;5;28;43mself\u001b[39;49m\u001b[38;5;241;43m.\u001b[39;49m\u001b[43m_jdf\u001b[49m\u001b[38;5;241;43m.\u001b[39;49m\u001b[43mselect\u001b[49m\u001b[43m(\u001b[49m\u001b[38;5;28;43mself\u001b[39;49m\u001b[38;5;241;43m.\u001b[39;49m\u001b[43m_jcols\u001b[49m\u001b[43m(\u001b[49m\u001b[38;5;241;43m*\u001b[39;49m\u001b[43mcols\u001b[49m\u001b[43m)\u001b[49m\u001b[43m)\u001b[49m\n\u001b[0;32m   3224\u001b[0m     \u001b[38;5;28;01mreturn\u001b[39;00m DataFrame(jdf, \u001b[38;5;28mself\u001b[39m\u001b[38;5;241m.\u001b[39msparkSession)\n",
      "File \u001b[1;32mc:\\Users\\Vincenzo\\Projects\\DDAM_Project_23-24\\venv\\Lib\\site-packages\\py4j\\java_gateway.py:1322\u001b[0m, in \u001b[0;36mJavaMember.__call__\u001b[1;34m(self, *args)\u001b[0m\n\u001b[0;32m   1316\u001b[0m command \u001b[38;5;241m=\u001b[39m proto\u001b[38;5;241m.\u001b[39mCALL_COMMAND_NAME \u001b[38;5;241m+\u001b[39m\\\n\u001b[0;32m   1317\u001b[0m     \u001b[38;5;28mself\u001b[39m\u001b[38;5;241m.\u001b[39mcommand_header \u001b[38;5;241m+\u001b[39m\\\n\u001b[0;32m   1318\u001b[0m     args_command \u001b[38;5;241m+\u001b[39m\\\n\u001b[0;32m   1319\u001b[0m     proto\u001b[38;5;241m.\u001b[39mEND_COMMAND_PART\n\u001b[0;32m   1321\u001b[0m answer \u001b[38;5;241m=\u001b[39m \u001b[38;5;28mself\u001b[39m\u001b[38;5;241m.\u001b[39mgateway_client\u001b[38;5;241m.\u001b[39msend_command(command)\n\u001b[1;32m-> 1322\u001b[0m return_value \u001b[38;5;241m=\u001b[39m \u001b[43mget_return_value\u001b[49m\u001b[43m(\u001b[49m\n\u001b[0;32m   1323\u001b[0m \u001b[43m    \u001b[49m\u001b[43manswer\u001b[49m\u001b[43m,\u001b[49m\u001b[43m \u001b[49m\u001b[38;5;28;43mself\u001b[39;49m\u001b[38;5;241;43m.\u001b[39;49m\u001b[43mgateway_client\u001b[49m\u001b[43m,\u001b[49m\u001b[43m \u001b[49m\u001b[38;5;28;43mself\u001b[39;49m\u001b[38;5;241;43m.\u001b[39;49m\u001b[43mtarget_id\u001b[49m\u001b[43m,\u001b[49m\u001b[43m \u001b[49m\u001b[38;5;28;43mself\u001b[39;49m\u001b[38;5;241;43m.\u001b[39;49m\u001b[43mname\u001b[49m\u001b[43m)\u001b[49m\n\u001b[0;32m   1325\u001b[0m \u001b[38;5;28;01mfor\u001b[39;00m temp_arg \u001b[38;5;129;01min\u001b[39;00m temp_args:\n\u001b[0;32m   1326\u001b[0m     \u001b[38;5;28;01mif\u001b[39;00m \u001b[38;5;28mhasattr\u001b[39m(temp_arg, \u001b[38;5;124m\"\u001b[39m\u001b[38;5;124m_detach\u001b[39m\u001b[38;5;124m\"\u001b[39m):\n",
      "File \u001b[1;32mc:\\Users\\Vincenzo\\Projects\\DDAM_Project_23-24\\venv\\Lib\\site-packages\\pyspark\\errors\\exceptions\\captured.py:185\u001b[0m, in \u001b[0;36mcapture_sql_exception.<locals>.deco\u001b[1;34m(*a, **kw)\u001b[0m\n\u001b[0;32m    181\u001b[0m converted \u001b[38;5;241m=\u001b[39m convert_exception(e\u001b[38;5;241m.\u001b[39mjava_exception)\n\u001b[0;32m    182\u001b[0m \u001b[38;5;28;01mif\u001b[39;00m \u001b[38;5;129;01mnot\u001b[39;00m \u001b[38;5;28misinstance\u001b[39m(converted, UnknownException):\n\u001b[0;32m    183\u001b[0m     \u001b[38;5;66;03m# Hide where the exception came from that shows a non-Pythonic\u001b[39;00m\n\u001b[0;32m    184\u001b[0m     \u001b[38;5;66;03m# JVM exception message.\u001b[39;00m\n\u001b[1;32m--> 185\u001b[0m     \u001b[38;5;28;01mraise\u001b[39;00m converted \u001b[38;5;28;01mfrom\u001b[39;00m \u001b[38;5;28;01mNone\u001b[39;00m\n\u001b[0;32m    186\u001b[0m \u001b[38;5;28;01melse\u001b[39;00m:\n\u001b[0;32m    187\u001b[0m     \u001b[38;5;28;01mraise\u001b[39;00m\n",
      "\u001b[1;31mAnalysisException\u001b[0m: [UNRESOLVED_COLUMN.WITH_SUGGESTION] A column or function parameter with name `formatted_ts` cannot be resolved. Did you mean one of the following? [`orig_pkts`, `duration`, `label`, `missed_bytes`, `orig_bytes`].;\n'Project [summary#22825, ts#22459, duration#22467, orig_bytes#22468, resp_bytes#22469, missed_bytes#22473, orig_pkts#22475, orig_ip_bytes#22476, resp_pkts#22477, resp_ip_bytes#22478, 'formatted_ts]\n+- Project [summary#22825, element_at(ts#22348, summary#22825, None, false) AS ts#22459, element_at(uid#22353, summary#22825, None, false) AS uid#22460, element_at(id_orig_h#22358, summary#22825, None, false) AS id_orig_h#22461, element_at(id_orig_p#22363, summary#22825, None, false) AS id_orig_p#22462, element_at(id_resp_h#22368, summary#22825, None, false) AS id_resp_h#22463, element_at(id_resp_p#22373, summary#22825, None, false) AS id_resp_p#22464, element_at(proto#22378, summary#22825, None, false) AS proto#22465, element_at(service#22383, summary#22825, None, false) AS service#22466, element_at(duration#22388, summary#22825, None, false) AS duration#22467, element_at(orig_bytes#22393, summary#22825, None, false) AS orig_bytes#22468, element_at(resp_bytes#22398, summary#22825, None, false) AS resp_bytes#22469, element_at(conn_state#22403, summary#22825, None, false) AS conn_state#22470, element_at(local_orig#22408, summary#22825, None, false) AS local_orig#22471, element_at(local_resp#22413, summary#22825, None, false) AS local_resp#22472, element_at(missed_bytes#22418, summary#22825, None, false) AS missed_bytes#22473, element_at(history#22423, summary#22825, None, false) AS history#22474, element_at(orig_pkts#22428, summary#22825, None, false) AS orig_pkts#22475, element_at(orig_ip_bytes#22433, summary#22825, None, false) AS orig_ip_bytes#22476, element_at(resp_pkts#22438, summary#22825, None, false) AS resp_pkts#22477, element_at(resp_ip_bytes#22443, summary#22825, None, false) AS resp_ip_bytes#22478, element_at(tunnel_parents#22448, summary#22825, None, false) AS tunnel_parents#22479, element_at(label#22453, summary#22825, None, false) AS label#22480, element_at(detailed-label#22458, summary#22825, None, false) AS detailed-label#22481]\n   +- Project [ts#22348, uid#22353, id_orig_h#22358, id_orig_p#22363, id_resp_h#22368, id_resp_p#22373, proto#22378, service#22383, duration#22388, orig_bytes#22393, resp_bytes#22398, conn_state#22403, local_orig#22408, local_resp#22413, missed_bytes#22418, history#22423, orig_pkts#22428, orig_ip_bytes#22433, resp_pkts#22438, resp_ip_bytes#22443, tunnel_parents#22448, label#22453, detailed-label#22458, summary#22825]\n      +- Generate explode([count,mean,stddev,min,max]), false, [summary#22825]\n         +- Aggregate [map(cast(count as string), cast(count(ts#1612) as string), cast(mean as string), cast(avg(ts#1612) as string), cast(stddev as string), cast(stddev(ts#1612) as string), cast(min as string), cast(min(ts#1612) as string), cast(max as string), cast(max(ts#1612) as string)) AS ts#22348, map(cast(count as string), cast(count(uid#1613) as string), cast(mean as string), cast(avg(try_cast(uid#1613 as double)) as string), cast(stddev as string), cast(stddev(try_cast(uid#1613 as double)) as string), cast(min as string), cast(min(uid#1613) as string), cast(max as string), cast(max(uid#1613) as string)) AS uid#22353, map(cast(count as string), cast(count(id_orig_h#1614) as string), cast(mean as string), cast(avg(try_cast(id_orig_h#1614 as double)) as string), cast(stddev as string), cast(stddev(try_cast(id_orig_h#1614 as double)) as string), cast(min as string), cast(min(id_orig_h#1614) as string), cast(max as string), cast(max(id_orig_h#1614) as string)) AS id_orig_h#22358, map(cast(count as string), cast(count(id_orig_p#1615) as string), cast(mean as string), cast(avg(try_cast(id_orig_p#1615 as double)) as string), cast(stddev as string), cast(stddev(try_cast(id_orig_p#1615 as double)) as string), cast(min as string), cast(min(id_orig_p#1615) as string), cast(max as string), cast(max(id_orig_p#1615) as string)) AS id_orig_p#22363, map(cast(count as string), cast(count(id_resp_h#1616) as string), cast(mean as string), cast(avg(try_cast(id_resp_h#1616 as double)) as string), cast(stddev as string), cast(stddev(try_cast(id_resp_h#1616 as double)) as string), cast(min as string), cast(min(id_resp_h#1616) as string), cast(max as string), cast(max(id_resp_h#1616) as string)) AS id_resp_h#22368, map(cast(count as string), cast(count(id_resp_p#1617) as string), cast(mean as string), cast(avg(try_cast(id_resp_p#1617 as double)) as string), cast(stddev as string), cast(stddev(try_cast(id_resp_p#1617 as double)) as string), cast(min as string), cast(min(id_resp_p#1617) as string), cast(max as string), cast(max(id_resp_p#1617) as string)) AS id_resp_p#22373, map(cast(count as string), cast(count(proto#1618) as string), cast(mean as string), cast(avg(try_cast(proto#1618 as double)) as string), cast(stddev as string), cast(stddev(try_cast(proto#1618 as double)) as string), cast(min as string), cast(min(proto#1618) as string), cast(max as string), cast(max(proto#1618) as string)) AS proto#22378, map(cast(count as string), cast(count(service#8275) as string), cast(mean as string), cast(avg(try_cast(service#8275 as double)) as string), cast(stddev as string), cast(stddev(try_cast(service#8275 as double)) as string), cast(min as string), cast(min(service#8275) as string), cast(max as string), cast(max(service#8275) as string)) AS service#22383, map(cast(count as string), cast(count(duration#1620) as string), cast(mean as string), cast(avg(duration#1620) as string), cast(stddev as string), cast(stddev(duration#1620) as string), cast(min as string), cast(min(duration#1620) as string), cast(max as string), cast(max(duration#1620) as string)) AS duration#22388, map(cast(count as string), cast(count(orig_bytes#1621) as string), cast(mean as string), cast(avg(orig_bytes#1621) as string), cast(stddev as string), cast(stddev(orig_bytes#1621) as string), cast(min as string), cast(min(orig_bytes#1621) as string), cast(max as string), cast(max(orig_bytes#1621) as string)) AS orig_bytes#22393, map(cast(count as string), cast(count(resp_bytes#1622) as string), cast(mean as string), cast(avg(resp_bytes#1622) as string), cast(stddev as string), cast(stddev(resp_bytes#1622) as string), cast(min as string), cast(min(resp_bytes#1622) as string), cast(max as string), cast(max(resp_bytes#1622) as string)) AS resp_bytes#22398, map(cast(count as string), cast(count(conn_state#1623) as string), cast(mean as string), cast(avg(try_cast(conn_state#1623 as double)) as string), cast(stddev as string), cast(stddev(try_cast(conn_state#1623 as double)) as string), cast(min as string), cast(min(conn_state#1623) as string), cast(max as string), cast(max(conn_state#1623) as string)) AS conn_state#22403, map(cast(count as string), cast(count(local_orig#8299) as string), cast(mean as string), cast(avg(try_cast(local_orig#8299 as double)) as string), cast(stddev as string), cast(stddev(try_cast(local_orig#8299 as double)) as string), cast(min as string), cast(min(local_orig#8299) as string), cast(max as string), cast(max(local_orig#8299) as string)) AS local_orig#22408, map(cast(count as string), cast(count(local_resp#8323) as string), cast(mean as string), cast(avg(try_cast(local_resp#8323 as double)) as string), cast(stddev as string), cast(stddev(try_cast(local_resp#8323 as double)) as string), cast(min as string), cast(min(local_resp#8323) as string), cast(max as string), cast(max(local_resp#8323) as string)) AS local_resp#22413, map(cast(count as string), cast(count(missed_bytes#1626) as string), cast(mean as string), cast(avg(missed_bytes#1626) as string), cast(stddev as string), cast(stddev(missed_bytes#1626) as string), cast(min as string), cast(min(missed_bytes#1626) as string), cast(max as string), cast(max(missed_bytes#1626) as string)) AS missed_bytes#22418, map(cast(count as string), cast(count(history#8347) as string), cast(mean as string), cast(avg(try_cast(history#8347 as double)) as string), cast(stddev as string), cast(stddev(try_cast(history#8347 as double)) as string), cast(min as string), cast(min(history#8347) as string), cast(max as string), cast(max(history#8347) as string)) AS history#22423, map(cast(count as string), cast(count(orig_pkts#1628) as string), cast(mean as string), cast(avg(orig_pkts#1628) as string), cast(stddev as string), cast(stddev(orig_pkts#1628) as string), cast(min as string), cast(min(orig_pkts#1628) as string), cast(max as string), cast(max(orig_pkts#1628) as string)) AS orig_pkts#22428, map(cast(count as string), cast(count(orig_ip_bytes#1629) as string), cast(mean as string), cast(avg(orig_ip_bytes#1629) as string), cast(stddev as string), cast(stddev(orig_ip_bytes#1629) as string), cast(min as string), cast(min(orig_ip_bytes#1629) as string), cast(max as string), cast(max(orig_ip_bytes#1629) as string)) AS orig_ip_bytes#22433, map(cast(count as string), cast(count(resp_pkts#1630) as string), cast(mean as string), cast(avg(resp_pkts#1630) as string), cast(stddev as string), cast(stddev(resp_pkts#1630) as string), cast(min as string), cast(min(resp_pkts#1630) as string), cast(max as string), cast(max(resp_pkts#1630) as string)) AS resp_pkts#22438, map(cast(count as string), cast(count(resp_ip_bytes#1631) as string), cast(mean as string), cast(avg(resp_ip_bytes#1631) as string), cast(stddev as string), cast(stddev(resp_ip_bytes#1631) as string), cast(min as string), cast(min(resp_ip_bytes#1631) as string), cast(max as string), cast(max(resp_ip_bytes#1631) as string)) AS resp_ip_bytes#22443, map(cast(count as string), cast(count(tunnel_parents#8371) as string), cast(mean as string), cast(avg(try_cast(tunnel_parents#8371 as double)) as string), cast(stddev as string), cast(stddev(try_cast(tunnel_parents#8371 as double)) as string), cast(min as string), cast(min(tunnel_parents#8371) as string), cast(max as string), cast(max(tunnel_parents#8371) as string)) AS tunnel_parents#22448, map(cast(count as string), cast(count(label#1633) as string), cast(mean as string), cast(avg(try_cast(label#1633 as double)) as string), cast(stddev as string), cast(stddev(try_cast(label#1633 as double)) as string), cast(min as string), cast(min(label#1633) as string), cast(max as string), cast(max(label#1633) as string)) AS label#22453, map(cast(count as string), cast(count(detailed-label#8395) as string), cast(mean as string), cast(avg(try_cast(detailed-label#8395 as double)) as string), cast(stddev as string), cast(stddev(try_cast(detailed-label#8395 as double)) as string), cast(min as string), cast(min(detailed-label#8395) as string), cast(max as string), cast(max(detailed-label#8395) as string)) AS detailed-label#22458]\n            +- Project [ts#1612, uid#1613, id_orig_h#1614, id_orig_p#1615, id_resp_h#1616, id_resp_p#1617, proto#1618, service#8275, duration#1620, orig_bytes#1621, resp_bytes#1622, conn_state#1623, local_orig#8299, local_resp#8323, missed_bytes#1626, history#8347, orig_pkts#1628, orig_ip_bytes#1629, resp_pkts#1630, resp_ip_bytes#1631, tunnel_parents#8371, label#1633, detailed-label#8395, cast(from_unixtime(cast(ts#1612 as bigint), yyyy-MM-dd HH:mm:ss, Some(Europe/Berlin)) as timestamp) AS formatted_ts#15862]\n               +- Project [ts#1612, uid#1613, id_orig_h#1614, id_orig_p#1615, id_resp_h#1616, id_resp_p#1617, proto#1618, service#8275, duration#1620, orig_bytes#1621, resp_bytes#1622, conn_state#1623, local_orig#8299, local_resp#8323, missed_bytes#1626, history#8347, orig_pkts#1628, orig_ip_bytes#1629, resp_pkts#1630, resp_ip_bytes#1631, tunnel_parents#8371, label#1633, CASE WHEN (detailed-label#1634 = -) THEN cast(null as string) ELSE detailed-label#1634 END AS detailed-label#8395]\n                  +- Project [ts#1612, uid#1613, id_orig_h#1614, id_orig_p#1615, id_resp_h#1616, id_resp_p#1617, proto#1618, service#8275, duration#1620, orig_bytes#1621, resp_bytes#1622, conn_state#1623, local_orig#8299, local_resp#8323, missed_bytes#1626, history#8347, orig_pkts#1628, orig_ip_bytes#1629, resp_pkts#1630, resp_ip_bytes#1631, CASE WHEN (tunnel_parents#1632 = -) THEN cast(null as string) ELSE tunnel_parents#1632 END AS tunnel_parents#8371, label#1633, detailed-label#1634]\n                     +- Project [ts#1612, uid#1613, id_orig_h#1614, id_orig_p#1615, id_resp_h#1616, id_resp_p#1617, proto#1618, service#8275, duration#1620, orig_bytes#1621, resp_bytes#1622, conn_state#1623, local_orig#8299, local_resp#8323, missed_bytes#1626, CASE WHEN (history#1627 = -) THEN cast(null as string) ELSE history#1627 END AS history#8347, orig_pkts#1628, orig_ip_bytes#1629, resp_pkts#1630, resp_ip_bytes#1631, tunnel_parents#1632, label#1633, detailed-label#1634]\n                        +- Project [ts#1612, uid#1613, id_orig_h#1614, id_orig_p#1615, id_resp_h#1616, id_resp_p#1617, proto#1618, service#8275, duration#1620, orig_bytes#1621, resp_bytes#1622, conn_state#1623, local_orig#8299, CASE WHEN (local_resp#1625 = -) THEN cast(null as string) ELSE local_resp#1625 END AS local_resp#8323, missed_bytes#1626, history#1627, orig_pkts#1628, orig_ip_bytes#1629, resp_pkts#1630, resp_ip_bytes#1631, tunnel_parents#1632, label#1633, detailed-label#1634]\n                           +- Project [ts#1612, uid#1613, id_orig_h#1614, id_orig_p#1615, id_resp_h#1616, id_resp_p#1617, proto#1618, service#8275, duration#1620, orig_bytes#1621, resp_bytes#1622, conn_state#1623, CASE WHEN (local_orig#1624 = -) THEN cast(null as string) ELSE local_orig#1624 END AS local_orig#8299, local_resp#1625, missed_bytes#1626, history#1627, orig_pkts#1628, orig_ip_bytes#1629, resp_pkts#1630, resp_ip_bytes#1631, tunnel_parents#1632, label#1633, detailed-label#1634]\n                              +- Project [ts#1612, uid#1613, id_orig_h#1614, id_orig_p#1615, id_resp_h#1616, id_resp_p#1617, proto#1618, CASE WHEN (service#1619 = -) THEN cast(null as string) ELSE service#1619 END AS service#8275, duration#1620, orig_bytes#1621, resp_bytes#1622, conn_state#1623, local_orig#1624, local_resp#1625, missed_bytes#1626, history#1627, orig_pkts#1628, orig_ip_bytes#1629, resp_pkts#1630, resp_ip_bytes#1631, tunnel_parents#1632, label#1633, detailed-label#1634]\n                                 +- Project [ts#208 AS ts#1612, uid#209 AS uid#1613, id.orig_h#210 AS id_orig_h#1614, id.orig_p#211 AS id_orig_p#1615, id.resp_h#212 AS id_resp_h#1616, id.resp_p#213 AS id_resp_p#1617, proto#214 AS proto#1618, service#215 AS service#1619, duration#216 AS duration#1620, orig_bytes#217 AS orig_bytes#1621, resp_bytes#218 AS resp_bytes#1622, conn_state#219 AS conn_state#1623, local_orig#220 AS local_orig#1624, local_resp#221 AS local_resp#1625, missed_bytes#222 AS missed_bytes#1626, history#223 AS history#1627, orig_pkts#224 AS orig_pkts#1628, orig_ip_bytes#225 AS orig_ip_bytes#1629, resp_pkts#226 AS resp_pkts#1630, resp_ip_bytes#227 AS resp_ip_bytes#1631, tunnel_parents#228 AS tunnel_parents#1632, label#229 AS label#1633, detailed-label#230 AS detailed-label#1634]\n                                    +- Union false, false\n                                       :- LogicalRDD [ts#208, uid#209, id.orig_h#210, id.orig_p#211, id.resp_h#212, id.resp_p#213, proto#214, service#215, duration#216, orig_bytes#217, resp_bytes#218, conn_state#219, local_orig#220, local_resp#221, missed_bytes#222, history#223, orig_pkts#224, orig_ip_bytes#225, resp_pkts#226, resp_ip_bytes#227, tunnel_parents#228, label#229, detailed-label#230], false\n                                       :- Relation [ts#254,uid#255,id.orig_h#256,id.orig_p#257,id.resp_h#258,id.resp_p#259,proto#260,service#261,duration#262,orig_bytes#263,resp_bytes#264,conn_state#265,local_orig#266,local_resp#267,missed_bytes#268,history#269,orig_pkts#270,orig_ip_bytes#271,resp_pkts#272,resp_ip_bytes#273,tunnel_parents#274,label#275,detailed-label#276] csv\n                                       :- Relation [ts#323,uid#324,id.orig_h#325,id.orig_p#326,id.resp_h#327,id.resp_p#328,proto#329,service#330,duration#331,orig_bytes#332,resp_bytes#333,conn_state#334,local_orig#335,local_resp#336,missed_bytes#337,history#338,orig_pkts#339,orig_ip_bytes#340,resp_pkts#341,resp_ip_bytes#342,tunnel_parents#343,label#344,detailed-label#345] csv\n                                       :- Relation [ts#392,uid#393,id.orig_h#394,id.orig_p#395,id.resp_h#396,id.resp_p#397,proto#398,service#399,duration#400,orig_bytes#401,resp_bytes#402,conn_state#403,local_orig#404,local_resp#405,missed_bytes#406,history#407,orig_pkts#408,orig_ip_bytes#409,resp_pkts#410,resp_ip_bytes#411,tunnel_parents#412,label#413,detailed-label#414] csv\n                                       :- Relation [ts#461,uid#462,id.orig_h#463,id.orig_p#464,id.resp_h#465,id.resp_p#466,proto#467,service#468,duration#469,orig_bytes#470,resp_bytes#471,conn_state#472,local_orig#473,local_resp#474,missed_bytes#475,history#476,orig_pkts#477,orig_ip_bytes#478,resp_pkts#479,resp_ip_bytes#480,tunnel_parents#481,label#482,detailed-label#483] csv\n                                       :- Relation [ts#530,uid#531,id.orig_h#532,id.orig_p#533,id.resp_h#534,id.resp_p#535,proto#536,service#537,duration#538,orig_bytes#539,resp_bytes#540,conn_state#541,local_orig#542,local_resp#543,missed_bytes#544,history#545,orig_pkts#546,orig_ip_bytes#547,resp_pkts#548,resp_ip_bytes#549,tunnel_parents#550,label#551,detailed-label#552] csv\n                                       :- Relation [ts#599,uid#600,id.orig_h#601,id.orig_p#602,id.resp_h#603,id.resp_p#604,proto#605,service#606,duration#607,orig_bytes#608,resp_bytes#609,conn_state#610,local_orig#611,local_resp#612,missed_bytes#613,history#614,orig_pkts#615,orig_ip_bytes#616,resp_pkts#617,resp_ip_bytes#618,tunnel_parents#619,label#620,detailed-label#621] csv\n                                       :- Relation [ts#668,uid#669,id.orig_h#670,id.orig_p#671,id.resp_h#672,id.resp_p#673,proto#674,service#675,duration#676,orig_bytes#677,resp_bytes#678,conn_state#679,local_orig#680,local_resp#681,missed_bytes#682,history#683,orig_pkts#684,orig_ip_bytes#685,resp_pkts#686,resp_ip_bytes#687,tunnel_parents#688,label#689,detailed-label#690] csv\n                                       :- Relation [ts#737,uid#738,id.orig_h#739,id.orig_p#740,id.resp_h#741,id.resp_p#742,proto#743,service#744,duration#745,orig_bytes#746,resp_bytes#747,conn_state#748,local_orig#749,local_resp#750,missed_bytes#751,history#752,orig_pkts#753,orig_ip_bytes#754,resp_pkts#755,resp_ip_bytes#756,tunnel_parents#757,label#758,detailed-label#759] csv\n                                       :- Relation [ts#806,uid#807,id.orig_h#808,id.orig_p#809,id.resp_h#810,id.resp_p#811,proto#812,service#813,duration#814,orig_bytes#815,resp_bytes#816,conn_state#817,local_orig#818,local_resp#819,missed_bytes#820,history#821,orig_pkts#822,orig_ip_bytes#823,resp_pkts#824,resp_ip_bytes#825,tunnel_parents#826,label#827,detailed-label#828] csv\n                                       :- Relation [ts#875,uid#876,id.orig_h#877,id.orig_p#878,id.resp_h#879,id.resp_p#880,proto#881,service#882,duration#883,orig_bytes#884,resp_bytes#885,conn_state#886,local_orig#887,local_resp#888,missed_bytes#889,history#890,orig_pkts#891,orig_ip_bytes#892,resp_pkts#893,resp_ip_bytes#894,tunnel_parents#895,label#896,detailed-label#897] csv\n                                       +- Relation [ts#944,uid#945,id.orig_h#946,id.orig_p#947,id.resp_h#948,id.resp_p#949,proto#950,service#951,duration#952,orig_bytes#953,resp_bytes#954,conn_state#955,local_orig#956,local_resp#957,missed_bytes#958,history#959,orig_pkts#960,orig_ip_bytes#961,resp_pkts#962,resp_ip_bytes#963,tunnel_parents#964,label#965,detailed-label#966] csv\n"
     ]
    }
   ],
   "source": [
    "# num_summary = summary.select(*num_cols)\n",
    "num_summary = summary.select(*([\"summary\"] + num_cols))\n",
    "# non_num_summary = summary.select(*non_num_cols)\n",
    "non_num_summary = summary.select(*([\"summary\"] + non_num_cols))\n",
    "\n",
    "print(\"Summary of numeric columns:\")\n",
    "num_summary.show()\n",
    "\n",
    "print(\"Summary of non-numeric columns:\")\n",
    "non_num_summary.show()"
   ]
  },
  {
   "cell_type": "code",
   "execution_count": null,
   "metadata": {},
   "outputs": [],
   "source": []
  }
 ],
 "metadata": {
  "kernelspec": {
   "display_name": "venv",
   "language": "python",
   "name": "python3"
  },
  "language_info": {
   "codemirror_mode": {
    "name": "ipython",
    "version": 3
   },
   "file_extension": ".py",
   "mimetype": "text/x-python",
   "name": "python",
   "nbconvert_exporter": "python",
   "pygments_lexer": "ipython3",
   "version": "3.12.1"
  }
 },
 "nbformat": 4,
 "nbformat_minor": 2
}
